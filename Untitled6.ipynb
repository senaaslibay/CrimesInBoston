{
  "nbformat": 4,
  "nbformat_minor": 0,
  "metadata": {
    "colab": {
      "name": "Untitled6.ipynb",
      "version": "0.3.2",
      "provenance": [],
      "collapsed_sections": [],
      "include_colab_link": true
    },
    "kernelspec": {
      "name": "python3",
      "display_name": "Python 3"
    }
  },
  "cells": [
    {
      "cell_type": "markdown",
      "metadata": {
        "id": "view-in-github",
        "colab_type": "text"
      },
      "source": [
        "<a href=\"https://colab.research.google.com/github/senaaslibay/CrimesInBoston/blob/master/Untitled6.ipynb\" target=\"_parent\"><img src=\"https://colab.research.google.com/assets/colab-badge.svg\" alt=\"Open In Colab\"/></a>"
      ]
    },
    {
      "cell_type": "code",
      "metadata": {
        "id": "v8zbpEHPWOIb",
        "colab_type": "code",
        "colab": {}
      },
      "source": [
        "import numpy as np # linear algebra\n",
        "import pandas as pd # data processing, CSV file I/O (e.g. pd.read_csv)\n",
        "import matplotlib.pyplot as plt\n",
        "import seaborn as sns\n",
        "import datetime as dt\n",
        "\n",
        "\n",
        "from scipy import stats\n",
        "from sklearn import preprocessing\n",
        "from sklearn.model_selection import KFold\n",
        "from sklearn.linear_model import LinearRegression\n",
        "from sklearn.metrics import mean_squared_error, r2_score, accuracy_score\n",
        "from sklearn.model_selection import train_test_split\n",
        "from sklearn.ensemble import RandomForestRegressor\n",
        "#from sklearn.cross_validation import train_test_split"
      ],
      "execution_count": 0,
      "outputs": []
    },
    {
      "cell_type": "code",
      "metadata": {
        "id": "r9V2ubukTAFv",
        "colab_type": "code",
        "outputId": "0236b879-18f8-4323-9844-dab6685849e2",
        "colab": {
          "base_uri": "https://localhost:8080/",
          "height": 54
        }
      },
      "source": [
        "\n",
        "from google.colab import drive\n",
        "drive.mount('/content/drive/')"
      ],
      "execution_count": 63,
      "outputs": [
        {
          "output_type": "stream",
          "text": [
            "Drive already mounted at /content/drive/; to attempt to forcibly remount, call drive.mount(\"/content/drive/\", force_remount=True).\n"
          ],
          "name": "stdout"
        }
      ]
    },
    {
      "cell_type": "code",
      "metadata": {
        "id": "LPjmxWKFTA7-",
        "colab_type": "code",
        "outputId": "61de9d7c-7dd2-4381-c8f8-3f1066698d08",
        "colab": {
          "base_uri": "https://localhost:8080/",
          "height": 34
        }
      },
      "source": [
        "%cd \"/content/drive/My Drive/Crimes in Boston\""
      ],
      "execution_count": 64,
      "outputs": [
        {
          "output_type": "stream",
          "text": [
            "/content/drive/My Drive/Crimes in Boston\n"
          ],
          "name": "stdout"
        }
      ]
    },
    {
      "cell_type": "code",
      "metadata": {
        "id": "Dw2X6f_vWoR2",
        "colab_type": "code",
        "outputId": "1f682fa0-7c76-4cb0-bea8-2ad03d95cfac",
        "colab": {
          "base_uri": "https://localhost:8080/",
          "height": 226
        }
      },
      "source": [
        "df1=pd.read_csv(\"report.csv\" , encoding = \"ISO-8859-1\")\n",
        "df1.head()\n",
        "\n"
      ],
      "execution_count": 65,
      "outputs": [
        {
          "output_type": "execute_result",
          "data": {
            "text/html": [
              "<div>\n",
              "<style scoped>\n",
              "    .dataframe tbody tr th:only-of-type {\n",
              "        vertical-align: middle;\n",
              "    }\n",
              "\n",
              "    .dataframe tbody tr th {\n",
              "        vertical-align: top;\n",
              "    }\n",
              "\n",
              "    .dataframe thead th {\n",
              "        text-align: right;\n",
              "    }\n",
              "</style>\n",
              "<table border=\"1\" class=\"dataframe\">\n",
              "  <thead>\n",
              "    <tr style=\"text-align: right;\">\n",
              "      <th></th>\n",
              "      <th>report_year</th>\n",
              "      <th>agency_code</th>\n",
              "      <th>agency_jurisdiction</th>\n",
              "      <th>population</th>\n",
              "      <th>violent_crimes</th>\n",
              "      <th>homicides</th>\n",
              "      <th>rapes</th>\n",
              "      <th>assaults</th>\n",
              "      <th>robberies</th>\n",
              "      <th>months_reported</th>\n",
              "      <th>crimes_percapita</th>\n",
              "      <th>homicides_percapita</th>\n",
              "      <th>rapes_percapita</th>\n",
              "      <th>assaults_percapita</th>\n",
              "      <th>robberies_percapita</th>\n",
              "    </tr>\n",
              "  </thead>\n",
              "  <tbody>\n",
              "    <tr>\n",
              "      <th>0</th>\n",
              "      <td>1975</td>\n",
              "      <td>NM00101</td>\n",
              "      <td>Albuquerque, NM</td>\n",
              "      <td>286238.0</td>\n",
              "      <td>2383.0</td>\n",
              "      <td>30.0</td>\n",
              "      <td>181.0</td>\n",
              "      <td>1353.0</td>\n",
              "      <td>819.0</td>\n",
              "      <td>12.0</td>\n",
              "      <td>832.52</td>\n",
              "      <td>10.48</td>\n",
              "      <td>63.23</td>\n",
              "      <td>472.68</td>\n",
              "      <td>286.13</td>\n",
              "    </tr>\n",
              "    <tr>\n",
              "      <th>1</th>\n",
              "      <td>1975</td>\n",
              "      <td>TX22001</td>\n",
              "      <td>Arlington, TX</td>\n",
              "      <td>112478.0</td>\n",
              "      <td>278.0</td>\n",
              "      <td>5.0</td>\n",
              "      <td>28.0</td>\n",
              "      <td>132.0</td>\n",
              "      <td>113.0</td>\n",
              "      <td>12.0</td>\n",
              "      <td>247.16</td>\n",
              "      <td>4.45</td>\n",
              "      <td>24.89</td>\n",
              "      <td>117.36</td>\n",
              "      <td>100.46</td>\n",
              "    </tr>\n",
              "    <tr>\n",
              "      <th>2</th>\n",
              "      <td>1975</td>\n",
              "      <td>GAAPD00</td>\n",
              "      <td>Atlanta, GA</td>\n",
              "      <td>490584.0</td>\n",
              "      <td>8033.0</td>\n",
              "      <td>185.0</td>\n",
              "      <td>443.0</td>\n",
              "      <td>3518.0</td>\n",
              "      <td>3887.0</td>\n",
              "      <td>12.0</td>\n",
              "      <td>1637.44</td>\n",
              "      <td>37.71</td>\n",
              "      <td>90.30</td>\n",
              "      <td>717.10</td>\n",
              "      <td>792.32</td>\n",
              "    </tr>\n",
              "    <tr>\n",
              "      <th>3</th>\n",
              "      <td>1975</td>\n",
              "      <td>CO00101</td>\n",
              "      <td>Aurora, CO</td>\n",
              "      <td>116656.0</td>\n",
              "      <td>611.0</td>\n",
              "      <td>7.0</td>\n",
              "      <td>44.0</td>\n",
              "      <td>389.0</td>\n",
              "      <td>171.0</td>\n",
              "      <td>12.0</td>\n",
              "      <td>523.76</td>\n",
              "      <td>6.00</td>\n",
              "      <td>37.72</td>\n",
              "      <td>333.46</td>\n",
              "      <td>146.58</td>\n",
              "    </tr>\n",
              "    <tr>\n",
              "      <th>4</th>\n",
              "      <td>1975</td>\n",
              "      <td>TX22701</td>\n",
              "      <td>Austin, TX</td>\n",
              "      <td>300400.0</td>\n",
              "      <td>1215.0</td>\n",
              "      <td>33.0</td>\n",
              "      <td>190.0</td>\n",
              "      <td>463.0</td>\n",
              "      <td>529.0</td>\n",
              "      <td>12.0</td>\n",
              "      <td>404.46</td>\n",
              "      <td>10.99</td>\n",
              "      <td>63.25</td>\n",
              "      <td>154.13</td>\n",
              "      <td>176.10</td>\n",
              "    </tr>\n",
              "  </tbody>\n",
              "</table>\n",
              "</div>"
            ],
            "text/plain": [
              "   report_year agency_code  ... assaults_percapita  robberies_percapita\n",
              "0         1975     NM00101  ...             472.68               286.13\n",
              "1         1975     TX22001  ...             117.36               100.46\n",
              "2         1975     GAAPD00  ...             717.10               792.32\n",
              "3         1975     CO00101  ...             333.46               146.58\n",
              "4         1975     TX22701  ...             154.13               176.10\n",
              "\n",
              "[5 rows x 15 columns]"
            ]
          },
          "metadata": {
            "tags": []
          },
          "execution_count": 65
        }
      ]
    },
    {
      "cell_type": "code",
      "metadata": {
        "id": "lWDyFfe3-3BG",
        "colab_type": "code",
        "colab": {}
      },
      "source": [
        ""
      ],
      "execution_count": 0,
      "outputs": []
    },
    {
      "cell_type": "markdown",
      "metadata": {
        "id": "d-l6uEdeqNxa",
        "colab_type": "text"
      },
      "source": [
        ""
      ]
    },
    {
      "cell_type": "code",
      "metadata": {
        "id": "7Jyd7vWsWu8V",
        "colab_type": "code",
        "outputId": "1a1625bd-4283-4ea8-986f-7f3d1d395f21",
        "colab": {
          "base_uri": "https://localhost:8080/",
          "height": 34
        }
      },
      "source": [
        "df1.shape"
      ],
      "execution_count": 66,
      "outputs": [
        {
          "output_type": "execute_result",
          "data": {
            "text/plain": [
              "(2829, 15)"
            ]
          },
          "metadata": {
            "tags": []
          },
          "execution_count": 66
        }
      ]
    },
    {
      "cell_type": "code",
      "metadata": {
        "id": "m9QNO1yEF4Hb",
        "colab_type": "code",
        "outputId": "f798c55d-3b9c-467e-83fd-d66a1803b1df",
        "colab": {
          "base_uri": "https://localhost:8080/",
          "height": 243
        }
      },
      "source": [
        "df2=pd.read_csv(\"efw_cc.csv\" , encoding = \"ISO-8859-1\")\n",
        "df2.head()"
      ],
      "execution_count": 67,
      "outputs": [
        {
          "output_type": "execute_result",
          "data": {
            "text/html": [
              "<div>\n",
              "<style scoped>\n",
              "    .dataframe tbody tr th:only-of-type {\n",
              "        vertical-align: middle;\n",
              "    }\n",
              "\n",
              "    .dataframe tbody tr th {\n",
              "        vertical-align: top;\n",
              "    }\n",
              "\n",
              "    .dataframe thead th {\n",
              "        text-align: right;\n",
              "    }\n",
              "</style>\n",
              "<table border=\"1\" class=\"dataframe\">\n",
              "  <thead>\n",
              "    <tr style=\"text-align: right;\">\n",
              "      <th></th>\n",
              "      <th>year</th>\n",
              "      <th>ISO_code</th>\n",
              "      <th>countries</th>\n",
              "      <th>ECONOMIC FREEDOM</th>\n",
              "      <th>rank</th>\n",
              "      <th>quartile</th>\n",
              "      <th>1a_government_consumption</th>\n",
              "      <th>1b_transfers</th>\n",
              "      <th>1c_gov_enterprises</th>\n",
              "      <th>1d_top_marg_tax_rate</th>\n",
              "      <th>1_size_government</th>\n",
              "      <th>2a_judicial_independence</th>\n",
              "      <th>2b_impartial_courts</th>\n",
              "      <th>2c_protection_property_rights</th>\n",
              "      <th>2d_military_interference</th>\n",
              "      <th>2e_integrity_legal_system</th>\n",
              "      <th>2f_legal_enforcement_contracts</th>\n",
              "      <th>2g_restrictions_sale_real_property</th>\n",
              "      <th>2h_reliability_police</th>\n",
              "      <th>2i_business_costs_crime</th>\n",
              "      <th>2j_gender_adjustment</th>\n",
              "      <th>2_property_rights</th>\n",
              "      <th>3a_money_growth</th>\n",
              "      <th>3b_std_inflation</th>\n",
              "      <th>3c_inflation</th>\n",
              "      <th>3d_freedom_own_foreign_currency</th>\n",
              "      <th>3_sound_money</th>\n",
              "      <th>4a_tariffs</th>\n",
              "      <th>4b_regulatory_trade_barriers</th>\n",
              "      <th>4c_black_market</th>\n",
              "      <th>4d_control_movement_capital_ppl</th>\n",
              "      <th>4_trade</th>\n",
              "      <th>5a_credit_market_reg</th>\n",
              "      <th>5b_labor_market_reg</th>\n",
              "      <th>5c_business_reg</th>\n",
              "      <th>5_regulation</th>\n",
              "    </tr>\n",
              "  </thead>\n",
              "  <tbody>\n",
              "    <tr>\n",
              "      <th>0</th>\n",
              "      <td>2016</td>\n",
              "      <td>ALB</td>\n",
              "      <td>Albania</td>\n",
              "      <td>7.54</td>\n",
              "      <td>34.0</td>\n",
              "      <td>1.0</td>\n",
              "      <td>8.232353</td>\n",
              "      <td>7.509902</td>\n",
              "      <td>8.0</td>\n",
              "      <td>8.0</td>\n",
              "      <td>7.935564</td>\n",
              "      <td>2.668222</td>\n",
              "      <td>3.145462</td>\n",
              "      <td>4.512228</td>\n",
              "      <td>8.333333</td>\n",
              "      <td>4.166667</td>\n",
              "      <td>4.387444</td>\n",
              "      <td>6.485287</td>\n",
              "      <td>6.933500</td>\n",
              "      <td>6.215401</td>\n",
              "      <td>0.948718</td>\n",
              "      <td>5.071814</td>\n",
              "      <td>8.986454</td>\n",
              "      <td>9.484575</td>\n",
              "      <td>9.74360</td>\n",
              "      <td>10.0</td>\n",
              "      <td>9.553657</td>\n",
              "      <td>8.963556</td>\n",
              "      <td>7.489905</td>\n",
              "      <td>10.00000</td>\n",
              "      <td>6.406138</td>\n",
              "      <td>8.214900</td>\n",
              "      <td>7.098562</td>\n",
              "      <td>6.916278</td>\n",
              "      <td>6.705863</td>\n",
              "      <td>6.906901</td>\n",
              "    </tr>\n",
              "    <tr>\n",
              "      <th>1</th>\n",
              "      <td>2016</td>\n",
              "      <td>DZA</td>\n",
              "      <td>Algeria</td>\n",
              "      <td>4.99</td>\n",
              "      <td>159.0</td>\n",
              "      <td>4.0</td>\n",
              "      <td>2.150000</td>\n",
              "      <td>7.817129</td>\n",
              "      <td>0.0</td>\n",
              "      <td>4.5</td>\n",
              "      <td>3.616782</td>\n",
              "      <td>4.186704</td>\n",
              "      <td>4.327113</td>\n",
              "      <td>4.689952</td>\n",
              "      <td>4.166667</td>\n",
              "      <td>5.000000</td>\n",
              "      <td>4.507538</td>\n",
              "      <td>6.626692</td>\n",
              "      <td>6.136845</td>\n",
              "      <td>6.737383</td>\n",
              "      <td>0.820513</td>\n",
              "      <td>4.690743</td>\n",
              "      <td>6.955962</td>\n",
              "      <td>8.339152</td>\n",
              "      <td>8.72046</td>\n",
              "      <td>5.0</td>\n",
              "      <td>7.253894</td>\n",
              "      <td>6.872533</td>\n",
              "      <td>2.481294</td>\n",
              "      <td>5.56391</td>\n",
              "      <td>1.590362</td>\n",
              "      <td>4.127025</td>\n",
              "      <td>5.100509</td>\n",
              "      <td>5.029513</td>\n",
              "      <td>5.676956</td>\n",
              "      <td>5.268992</td>\n",
              "    </tr>\n",
              "    <tr>\n",
              "      <th>2</th>\n",
              "      <td>2016</td>\n",
              "      <td>AGO</td>\n",
              "      <td>Angola</td>\n",
              "      <td>5.17</td>\n",
              "      <td>155.0</td>\n",
              "      <td>4.0</td>\n",
              "      <td>7.600000</td>\n",
              "      <td>8.886739</td>\n",
              "      <td>0.0</td>\n",
              "      <td>9.5</td>\n",
              "      <td>6.496685</td>\n",
              "      <td>1.843129</td>\n",
              "      <td>1.974566</td>\n",
              "      <td>2.512364</td>\n",
              "      <td>3.333333</td>\n",
              "      <td>4.166667</td>\n",
              "      <td>2.302200</td>\n",
              "      <td>5.455882</td>\n",
              "      <td>3.016104</td>\n",
              "      <td>4.291197</td>\n",
              "      <td>0.846154</td>\n",
              "      <td>2.963635</td>\n",
              "      <td>9.385679</td>\n",
              "      <td>4.986742</td>\n",
              "      <td>3.05400</td>\n",
              "      <td>5.0</td>\n",
              "      <td>5.606605</td>\n",
              "      <td>6.989244</td>\n",
              "      <td>2.024949</td>\n",
              "      <td>10.00000</td>\n",
              "      <td>2.044823</td>\n",
              "      <td>5.264754</td>\n",
              "      <td>7.064905</td>\n",
              "      <td>4.560325</td>\n",
              "      <td>4.930271</td>\n",
              "      <td>5.518500</td>\n",
              "    </tr>\n",
              "    <tr>\n",
              "      <th>3</th>\n",
              "      <td>2016</td>\n",
              "      <td>ARG</td>\n",
              "      <td>Argentina</td>\n",
              "      <td>4.84</td>\n",
              "      <td>160.0</td>\n",
              "      <td>4.0</td>\n",
              "      <td>5.335294</td>\n",
              "      <td>6.048930</td>\n",
              "      <td>6.0</td>\n",
              "      <td>4.0</td>\n",
              "      <td>5.346056</td>\n",
              "      <td>3.689690</td>\n",
              "      <td>2.930563</td>\n",
              "      <td>4.255995</td>\n",
              "      <td>7.500000</td>\n",
              "      <td>3.333333</td>\n",
              "      <td>3.632872</td>\n",
              "      <td>6.857195</td>\n",
              "      <td>3.385786</td>\n",
              "      <td>4.133832</td>\n",
              "      <td>0.769231</td>\n",
              "      <td>3.904030</td>\n",
              "      <td>5.233264</td>\n",
              "      <td>5.224079</td>\n",
              "      <td>2.00000</td>\n",
              "      <td>10.0</td>\n",
              "      <td>5.614336</td>\n",
              "      <td>6.421600</td>\n",
              "      <td>4.811105</td>\n",
              "      <td>0.00000</td>\n",
              "      <td>4.697482</td>\n",
              "      <td>3.982547</td>\n",
              "      <td>5.419820</td>\n",
              "      <td>5.151405</td>\n",
              "      <td>5.535831</td>\n",
              "      <td>5.369019</td>\n",
              "    </tr>\n",
              "    <tr>\n",
              "      <th>4</th>\n",
              "      <td>2016</td>\n",
              "      <td>ARM</td>\n",
              "      <td>Armenia</td>\n",
              "      <td>7.57</td>\n",
              "      <td>29.0</td>\n",
              "      <td>1.0</td>\n",
              "      <td>7.264706</td>\n",
              "      <td>7.748532</td>\n",
              "      <td>8.0</td>\n",
              "      <td>5.0</td>\n",
              "      <td>7.003310</td>\n",
              "      <td>3.867379</td>\n",
              "      <td>4.197569</td>\n",
              "      <td>5.664317</td>\n",
              "      <td>5.833333</td>\n",
              "      <td>5.000000</td>\n",
              "      <td>5.196693</td>\n",
              "      <td>9.801963</td>\n",
              "      <td>5.714028</td>\n",
              "      <td>7.007654</td>\n",
              "      <td>1.000000</td>\n",
              "      <td>5.809215</td>\n",
              "      <td>9.078264</td>\n",
              "      <td>9.263496</td>\n",
              "      <td>9.74600</td>\n",
              "      <td>10.0</td>\n",
              "      <td>9.521940</td>\n",
              "      <td>8.547556</td>\n",
              "      <td>7.194410</td>\n",
              "      <td>10.00000</td>\n",
              "      <td>6.830998</td>\n",
              "      <td>8.143241</td>\n",
              "      <td>9.102046</td>\n",
              "      <td>6.234630</td>\n",
              "      <td>6.797530</td>\n",
              "      <td>7.378069</td>\n",
              "    </tr>\n",
              "  </tbody>\n",
              "</table>\n",
              "</div>"
            ],
            "text/plain": [
              "   year ISO_code  countries  ...  5b_labor_market_reg  5c_business_reg  5_regulation\n",
              "0  2016      ALB    Albania  ...             6.916278         6.705863      6.906901\n",
              "1  2016      DZA    Algeria  ...             5.029513         5.676956      5.268992\n",
              "2  2016      AGO     Angola  ...             4.560325         4.930271      5.518500\n",
              "3  2016      ARG  Argentina  ...             5.151405         5.535831      5.369019\n",
              "4  2016      ARM    Armenia  ...             6.234630         6.797530      7.378069\n",
              "\n",
              "[5 rows x 36 columns]"
            ]
          },
          "metadata": {
            "tags": []
          },
          "execution_count": 67
        }
      ]
    },
    {
      "cell_type": "code",
      "metadata": {
        "id": "Pb5UzdatGA3s",
        "colab_type": "code",
        "outputId": "6efebeee-24c4-4b44-f34b-910e9785da95",
        "colab": {
          "base_uri": "https://localhost:8080/",
          "height": 34
        }
      },
      "source": [
        "df2.shape"
      ],
      "execution_count": 68,
      "outputs": [
        {
          "output_type": "execute_result",
          "data": {
            "text/plain": [
              "(3726, 36)"
            ]
          },
          "metadata": {
            "tags": []
          },
          "execution_count": 68
        }
      ]
    },
    {
      "cell_type": "code",
      "metadata": {
        "id": "EFchLaTJTtx0",
        "colab_type": "code",
        "colab": {}
      },
      "source": [
        "income=pd.read_csv(\"efw_cc.csv\", encoding=\"ISO-8859-1\" , usecols=[\"ECONOMIC FREEDOM\", \"year\",\"countries\" ], error_bad_lines=False)\n",
        "\n",
        "report_NY=pd.read_csv(\"report.csv\", encoding=\"ISO-8859-1\", usecols=[\"crimes_percapita\",\"report_year\",\"agency_jurisdiction\"],error_bad_lines=False)\n",
        "\n",
        "report_WDC=pd.read_csv(\"report.csv\", encoding=\"ISO-8859-1\", usecols=[\"crimes_percapita\",\"report_year\",\"agency_jurisdiction\"],error_bad_lines=False)\n",
        "\n",
        "report_TX=pd.read_csv(\"report.csv\", encoding=\"ISO-8859-1\", usecols=[\"crimes_percapita\",\"report_year\",\"agency_jurisdiction\"],error_bad_lines=False)\n",
        "\n",
        "report=pd.read_csv(\"report.csv\", encoding=\"ISO-8859-1\", usecols=[\"crimes_percapita\",\"report_year\",\"agency_jurisdiction\"],error_bad_lines=False)"
      ],
      "execution_count": 0,
      "outputs": []
    },
    {
      "cell_type": "code",
      "metadata": {
        "colab_type": "code",
        "outputId": "75e3847a-ddc0-45ea-ff3a-acbe5efbb46e",
        "id": "C2VOapIZFLsH",
        "colab": {
          "base_uri": "https://localhost:8080/",
          "height": 707
        }
      },
      "source": [
        "income.columns=[\"Year\",\"Country\", \"Income\"]\n",
        "income=income.loc[income[\"Country\"].isin([\"United States\"])]\n",
        "\n",
        "start_date = 1975\n",
        "end_date=2015\n",
        "\n",
        "date_mask = (income['Year'] >= start_date) & (income['Year'] <= end_date)\n",
        "\n",
        "income=income.loc[date_mask]\n",
        "\n",
        "income.drop('Country', axis=1)\n",
        "\n",
        "\n",
        "income\n"
      ],
      "execution_count": 70,
      "outputs": [
        {
          "output_type": "execute_result",
          "data": {
            "text/html": [
              "<div>\n",
              "<style scoped>\n",
              "    .dataframe tbody tr th:only-of-type {\n",
              "        vertical-align: middle;\n",
              "    }\n",
              "\n",
              "    .dataframe tbody tr th {\n",
              "        vertical-align: top;\n",
              "    }\n",
              "\n",
              "    .dataframe thead th {\n",
              "        text-align: right;\n",
              "    }\n",
              "</style>\n",
              "<table border=\"1\" class=\"dataframe\">\n",
              "  <thead>\n",
              "    <tr style=\"text-align: right;\">\n",
              "      <th></th>\n",
              "      <th>Year</th>\n",
              "      <th>Country</th>\n",
              "      <th>Income</th>\n",
              "    </tr>\n",
              "  </thead>\n",
              "  <tbody>\n",
              "    <tr>\n",
              "      <th>317</th>\n",
              "      <td>2015</td>\n",
              "      <td>United States</td>\n",
              "      <td>7.93</td>\n",
              "    </tr>\n",
              "    <tr>\n",
              "      <th>479</th>\n",
              "      <td>2014</td>\n",
              "      <td>United States</td>\n",
              "      <td>7.81</td>\n",
              "    </tr>\n",
              "    <tr>\n",
              "      <th>641</th>\n",
              "      <td>2013</td>\n",
              "      <td>United States</td>\n",
              "      <td>7.74</td>\n",
              "    </tr>\n",
              "    <tr>\n",
              "      <th>803</th>\n",
              "      <td>2012</td>\n",
              "      <td>United States</td>\n",
              "      <td>7.88</td>\n",
              "    </tr>\n",
              "    <tr>\n",
              "      <th>965</th>\n",
              "      <td>2011</td>\n",
              "      <td>United States</td>\n",
              "      <td>7.76</td>\n",
              "    </tr>\n",
              "    <tr>\n",
              "      <th>1127</th>\n",
              "      <td>2010</td>\n",
              "      <td>United States</td>\n",
              "      <td>7.81</td>\n",
              "    </tr>\n",
              "    <tr>\n",
              "      <th>1289</th>\n",
              "      <td>2009</td>\n",
              "      <td>United States</td>\n",
              "      <td>7.95</td>\n",
              "    </tr>\n",
              "    <tr>\n",
              "      <th>1451</th>\n",
              "      <td>2008</td>\n",
              "      <td>United States</td>\n",
              "      <td>8.17</td>\n",
              "    </tr>\n",
              "    <tr>\n",
              "      <th>1613</th>\n",
              "      <td>2007</td>\n",
              "      <td>United States</td>\n",
              "      <td>8.29</td>\n",
              "    </tr>\n",
              "    <tr>\n",
              "      <th>1775</th>\n",
              "      <td>2006</td>\n",
              "      <td>United States</td>\n",
              "      <td>8.18</td>\n",
              "    </tr>\n",
              "    <tr>\n",
              "      <th>1937</th>\n",
              "      <td>2005</td>\n",
              "      <td>United States</td>\n",
              "      <td>8.22</td>\n",
              "    </tr>\n",
              "    <tr>\n",
              "      <th>2099</th>\n",
              "      <td>2004</td>\n",
              "      <td>United States</td>\n",
              "      <td>8.42</td>\n",
              "    </tr>\n",
              "    <tr>\n",
              "      <th>2261</th>\n",
              "      <td>2003</td>\n",
              "      <td>United States</td>\n",
              "      <td>8.41</td>\n",
              "    </tr>\n",
              "    <tr>\n",
              "      <th>2423</th>\n",
              "      <td>2002</td>\n",
              "      <td>United States</td>\n",
              "      <td>8.42</td>\n",
              "    </tr>\n",
              "    <tr>\n",
              "      <th>2585</th>\n",
              "      <td>2001</td>\n",
              "      <td>United States</td>\n",
              "      <td>8.47</td>\n",
              "    </tr>\n",
              "    <tr>\n",
              "      <th>2747</th>\n",
              "      <td>2000</td>\n",
              "      <td>United States</td>\n",
              "      <td>8.62</td>\n",
              "    </tr>\n",
              "    <tr>\n",
              "      <th>2909</th>\n",
              "      <td>1995</td>\n",
              "      <td>United States</td>\n",
              "      <td>8.48</td>\n",
              "    </tr>\n",
              "    <tr>\n",
              "      <th>3071</th>\n",
              "      <td>1990</td>\n",
              "      <td>United States</td>\n",
              "      <td>8.48</td>\n",
              "    </tr>\n",
              "    <tr>\n",
              "      <th>3233</th>\n",
              "      <td>1985</td>\n",
              "      <td>United States</td>\n",
              "      <td>8.26</td>\n",
              "    </tr>\n",
              "    <tr>\n",
              "      <th>3395</th>\n",
              "      <td>1980</td>\n",
              "      <td>United States</td>\n",
              "      <td>8.07</td>\n",
              "    </tr>\n",
              "    <tr>\n",
              "      <th>3557</th>\n",
              "      <td>1975</td>\n",
              "      <td>United States</td>\n",
              "      <td>7.88</td>\n",
              "    </tr>\n",
              "  </tbody>\n",
              "</table>\n",
              "</div>"
            ],
            "text/plain": [
              "      Year        Country  Income\n",
              "317   2015  United States    7.93\n",
              "479   2014  United States    7.81\n",
              "641   2013  United States    7.74\n",
              "803   2012  United States    7.88\n",
              "965   2011  United States    7.76\n",
              "1127  2010  United States    7.81\n",
              "1289  2009  United States    7.95\n",
              "1451  2008  United States    8.17\n",
              "1613  2007  United States    8.29\n",
              "1775  2006  United States    8.18\n",
              "1937  2005  United States    8.22\n",
              "2099  2004  United States    8.42\n",
              "2261  2003  United States    8.41\n",
              "2423  2002  United States    8.42\n",
              "2585  2001  United States    8.47\n",
              "2747  2000  United States    8.62\n",
              "2909  1995  United States    8.48\n",
              "3071  1990  United States    8.48\n",
              "3233  1985  United States    8.26\n",
              "3395  1980  United States    8.07\n",
              "3557  1975  United States    7.88"
            ]
          },
          "metadata": {
            "tags": []
          },
          "execution_count": 70
        }
      ]
    },
    {
      "cell_type": "code",
      "metadata": {
        "id": "GTb6DzPSFYp9",
        "colab_type": "code",
        "colab": {
          "base_uri": "https://localhost:8080/",
          "height": 707
        },
        "outputId": "a9ba9dac-97ae-4051-d7da-c76aa1e66aac"
      },
      "source": [
        "income=income.sort_values(\"Year\")\n",
        "income"
      ],
      "execution_count": 71,
      "outputs": [
        {
          "output_type": "execute_result",
          "data": {
            "text/html": [
              "<div>\n",
              "<style scoped>\n",
              "    .dataframe tbody tr th:only-of-type {\n",
              "        vertical-align: middle;\n",
              "    }\n",
              "\n",
              "    .dataframe tbody tr th {\n",
              "        vertical-align: top;\n",
              "    }\n",
              "\n",
              "    .dataframe thead th {\n",
              "        text-align: right;\n",
              "    }\n",
              "</style>\n",
              "<table border=\"1\" class=\"dataframe\">\n",
              "  <thead>\n",
              "    <tr style=\"text-align: right;\">\n",
              "      <th></th>\n",
              "      <th>Year</th>\n",
              "      <th>Country</th>\n",
              "      <th>Income</th>\n",
              "    </tr>\n",
              "  </thead>\n",
              "  <tbody>\n",
              "    <tr>\n",
              "      <th>3557</th>\n",
              "      <td>1975</td>\n",
              "      <td>United States</td>\n",
              "      <td>7.88</td>\n",
              "    </tr>\n",
              "    <tr>\n",
              "      <th>3395</th>\n",
              "      <td>1980</td>\n",
              "      <td>United States</td>\n",
              "      <td>8.07</td>\n",
              "    </tr>\n",
              "    <tr>\n",
              "      <th>3233</th>\n",
              "      <td>1985</td>\n",
              "      <td>United States</td>\n",
              "      <td>8.26</td>\n",
              "    </tr>\n",
              "    <tr>\n",
              "      <th>3071</th>\n",
              "      <td>1990</td>\n",
              "      <td>United States</td>\n",
              "      <td>8.48</td>\n",
              "    </tr>\n",
              "    <tr>\n",
              "      <th>2909</th>\n",
              "      <td>1995</td>\n",
              "      <td>United States</td>\n",
              "      <td>8.48</td>\n",
              "    </tr>\n",
              "    <tr>\n",
              "      <th>2747</th>\n",
              "      <td>2000</td>\n",
              "      <td>United States</td>\n",
              "      <td>8.62</td>\n",
              "    </tr>\n",
              "    <tr>\n",
              "      <th>2585</th>\n",
              "      <td>2001</td>\n",
              "      <td>United States</td>\n",
              "      <td>8.47</td>\n",
              "    </tr>\n",
              "    <tr>\n",
              "      <th>2423</th>\n",
              "      <td>2002</td>\n",
              "      <td>United States</td>\n",
              "      <td>8.42</td>\n",
              "    </tr>\n",
              "    <tr>\n",
              "      <th>2261</th>\n",
              "      <td>2003</td>\n",
              "      <td>United States</td>\n",
              "      <td>8.41</td>\n",
              "    </tr>\n",
              "    <tr>\n",
              "      <th>2099</th>\n",
              "      <td>2004</td>\n",
              "      <td>United States</td>\n",
              "      <td>8.42</td>\n",
              "    </tr>\n",
              "    <tr>\n",
              "      <th>1937</th>\n",
              "      <td>2005</td>\n",
              "      <td>United States</td>\n",
              "      <td>8.22</td>\n",
              "    </tr>\n",
              "    <tr>\n",
              "      <th>1775</th>\n",
              "      <td>2006</td>\n",
              "      <td>United States</td>\n",
              "      <td>8.18</td>\n",
              "    </tr>\n",
              "    <tr>\n",
              "      <th>1613</th>\n",
              "      <td>2007</td>\n",
              "      <td>United States</td>\n",
              "      <td>8.29</td>\n",
              "    </tr>\n",
              "    <tr>\n",
              "      <th>1451</th>\n",
              "      <td>2008</td>\n",
              "      <td>United States</td>\n",
              "      <td>8.17</td>\n",
              "    </tr>\n",
              "    <tr>\n",
              "      <th>1289</th>\n",
              "      <td>2009</td>\n",
              "      <td>United States</td>\n",
              "      <td>7.95</td>\n",
              "    </tr>\n",
              "    <tr>\n",
              "      <th>1127</th>\n",
              "      <td>2010</td>\n",
              "      <td>United States</td>\n",
              "      <td>7.81</td>\n",
              "    </tr>\n",
              "    <tr>\n",
              "      <th>965</th>\n",
              "      <td>2011</td>\n",
              "      <td>United States</td>\n",
              "      <td>7.76</td>\n",
              "    </tr>\n",
              "    <tr>\n",
              "      <th>803</th>\n",
              "      <td>2012</td>\n",
              "      <td>United States</td>\n",
              "      <td>7.88</td>\n",
              "    </tr>\n",
              "    <tr>\n",
              "      <th>641</th>\n",
              "      <td>2013</td>\n",
              "      <td>United States</td>\n",
              "      <td>7.74</td>\n",
              "    </tr>\n",
              "    <tr>\n",
              "      <th>479</th>\n",
              "      <td>2014</td>\n",
              "      <td>United States</td>\n",
              "      <td>7.81</td>\n",
              "    </tr>\n",
              "    <tr>\n",
              "      <th>317</th>\n",
              "      <td>2015</td>\n",
              "      <td>United States</td>\n",
              "      <td>7.93</td>\n",
              "    </tr>\n",
              "  </tbody>\n",
              "</table>\n",
              "</div>"
            ],
            "text/plain": [
              "      Year        Country  Income\n",
              "3557  1975  United States    7.88\n",
              "3395  1980  United States    8.07\n",
              "3233  1985  United States    8.26\n",
              "3071  1990  United States    8.48\n",
              "2909  1995  United States    8.48\n",
              "2747  2000  United States    8.62\n",
              "2585  2001  United States    8.47\n",
              "2423  2002  United States    8.42\n",
              "2261  2003  United States    8.41\n",
              "2099  2004  United States    8.42\n",
              "1937  2005  United States    8.22\n",
              "1775  2006  United States    8.18\n",
              "1613  2007  United States    8.29\n",
              "1451  2008  United States    8.17\n",
              "1289  2009  United States    7.95\n",
              "1127  2010  United States    7.81\n",
              "965   2011  United States    7.76\n",
              "803   2012  United States    7.88\n",
              "641   2013  United States    7.74\n",
              "479   2014  United States    7.81\n",
              "317   2015  United States    7.93"
            ]
          },
          "metadata": {
            "tags": []
          },
          "execution_count": 71
        }
      ]
    },
    {
      "cell_type": "code",
      "metadata": {
        "id": "TjbE3lOgFofr",
        "colab_type": "code",
        "colab": {
          "base_uri": "https://localhost:8080/",
          "height": 347
        },
        "outputId": "e8545f9e-e853-4369-bf93-e367fdccc4ab"
      },
      "source": [
        "fig, ax = plt.subplots()\n",
        "ax.plot(income[\"Year\"], income[\"Income\"])\n",
        "\n",
        "ax.set(xlabel='YEAR', ylabel='INCOME',\n",
        "       title='INCOME HOUSEHOLD IN UNITED STATES BY YEAR')"
      ],
      "execution_count": 72,
      "outputs": [
        {
          "output_type": "execute_result",
          "data": {
            "text/plain": [
              "[Text(0, 0.5, 'INCOME'),\n",
              " Text(0.5, 0, 'YEAR'),\n",
              " Text(0.5, 1.0, 'INCOME HOUSEHOLD IN UNITED STATES BY YEAR')]"
            ]
          },
          "metadata": {
            "tags": []
          },
          "execution_count": 72
        },
        {
          "output_type": "display_data",
          "data": {
            "image/png": "[encoded data removed]",
            "text/plain": [
              "<Figure size 432x288 with 1 Axes>"
            ]
          },
          "metadata": {
            "tags": []
          }
        }
      ]
    },
    {
      "cell_type": "code",
      "metadata": {
        "id": "Zr-UQGrGCwf9",
        "colab_type": "code",
        "colab": {
          "base_uri": "https://localhost:8080/",
          "height": 707
        },
        "outputId": "9d2b9d57-c679-4628-da2c-fa2f50585e57"
      },
      "source": [
        "report_TX.columns=['Year','Country',\"Crime\"]\n",
        "report_TX=report_TX.loc[report_TX[\"Country\"].isin([\"El Paso, TX\"])]\n",
        "\n",
        "start_date = 2000\n",
        "end_date=2016\n",
        "\n",
        "date_mask =  ((report_TX['Year'] >= start_date) & (report_TX['Year'] <= end_date)) | (report_TX[\"Year\"]==1975) | (report_TX[\"Year\"]==1980)  | (report_TX[\"Year\"]==1985)  | (report_TX[\"Year\"]==1990) | (report_TX[\"Year\"]==1995)\n",
        "\n",
        "\n",
        "\n",
        "report_TX=report_TX.loc[date_mask]\n",
        "\n",
        "\n",
        "\n",
        "\n",
        "report_TX\n"
      ],
      "execution_count": 73,
      "outputs": [
        {
          "output_type": "execute_result",
          "data": {
            "text/html": [
              "<div>\n",
              "<style scoped>\n",
              "    .dataframe tbody tr th:only-of-type {\n",
              "        vertical-align: middle;\n",
              "    }\n",
              "\n",
              "    .dataframe tbody tr th {\n",
              "        vertical-align: top;\n",
              "    }\n",
              "\n",
              "    .dataframe thead th {\n",
              "        text-align: right;\n",
              "    }\n",
              "</style>\n",
              "<table border=\"1\" class=\"dataframe\">\n",
              "  <thead>\n",
              "    <tr style=\"text-align: right;\">\n",
              "      <th></th>\n",
              "      <th>Year</th>\n",
              "      <th>Country</th>\n",
              "      <th>Crime</th>\n",
              "    </tr>\n",
              "  </thead>\n",
              "  <tbody>\n",
              "    <tr>\n",
              "      <th>17</th>\n",
              "      <td>1975</td>\n",
              "      <td>El Paso, TX</td>\n",
              "      <td>438.48</td>\n",
              "    </tr>\n",
              "    <tr>\n",
              "      <th>362</th>\n",
              "      <td>1980</td>\n",
              "      <td>El Paso, TX</td>\n",
              "      <td>661.22</td>\n",
              "    </tr>\n",
              "    <tr>\n",
              "      <th>707</th>\n",
              "      <td>1985</td>\n",
              "      <td>El Paso, TX</td>\n",
              "      <td>771.16</td>\n",
              "    </tr>\n",
              "    <tr>\n",
              "      <th>1052</th>\n",
              "      <td>1990</td>\n",
              "      <td>El Paso, TX</td>\n",
              "      <td>991.77</td>\n",
              "    </tr>\n",
              "    <tr>\n",
              "      <th>1397</th>\n",
              "      <td>1995</td>\n",
              "      <td>El Paso, TX</td>\n",
              "      <td>838.34</td>\n",
              "    </tr>\n",
              "    <tr>\n",
              "      <th>1742</th>\n",
              "      <td>2000</td>\n",
              "      <td>El Paso, TX</td>\n",
              "      <td>779.90</td>\n",
              "    </tr>\n",
              "    <tr>\n",
              "      <th>1811</th>\n",
              "      <td>2001</td>\n",
              "      <td>El Paso, TX</td>\n",
              "      <td>760.86</td>\n",
              "    </tr>\n",
              "    <tr>\n",
              "      <th>1880</th>\n",
              "      <td>2002</td>\n",
              "      <td>El Paso, TX</td>\n",
              "      <td>661.06</td>\n",
              "    </tr>\n",
              "    <tr>\n",
              "      <th>1949</th>\n",
              "      <td>2003</td>\n",
              "      <td>El Paso, TX</td>\n",
              "      <td>597.21</td>\n",
              "    </tr>\n",
              "    <tr>\n",
              "      <th>2018</th>\n",
              "      <td>2004</td>\n",
              "      <td>El Paso, TX</td>\n",
              "      <td>545.86</td>\n",
              "    </tr>\n",
              "    <tr>\n",
              "      <th>2087</th>\n",
              "      <td>2005</td>\n",
              "      <td>El Paso, TX</td>\n",
              "      <td>435.50</td>\n",
              "    </tr>\n",
              "    <tr>\n",
              "      <th>2156</th>\n",
              "      <td>2006</td>\n",
              "      <td>El Paso, TX</td>\n",
              "      <td>393.47</td>\n",
              "    </tr>\n",
              "    <tr>\n",
              "      <th>2225</th>\n",
              "      <td>2007</td>\n",
              "      <td>El Paso, TX</td>\n",
              "      <td>417.84</td>\n",
              "    </tr>\n",
              "    <tr>\n",
              "      <th>2294</th>\n",
              "      <td>2008</td>\n",
              "      <td>El Paso, TX</td>\n",
              "      <td>461.32</td>\n",
              "    </tr>\n",
              "    <tr>\n",
              "      <th>2363</th>\n",
              "      <td>2009</td>\n",
              "      <td>El Paso, TX</td>\n",
              "      <td>457.33</td>\n",
              "    </tr>\n",
              "    <tr>\n",
              "      <th>2432</th>\n",
              "      <td>2010</td>\n",
              "      <td>El Paso, TX</td>\n",
              "      <td>440.75</td>\n",
              "    </tr>\n",
              "    <tr>\n",
              "      <th>2501</th>\n",
              "      <td>2011</td>\n",
              "      <td>El Paso, TX</td>\n",
              "      <td>431.21</td>\n",
              "    </tr>\n",
              "    <tr>\n",
              "      <th>2570</th>\n",
              "      <td>2012</td>\n",
              "      <td>El Paso, TX</td>\n",
              "      <td>423.22</td>\n",
              "    </tr>\n",
              "    <tr>\n",
              "      <th>2639</th>\n",
              "      <td>2013</td>\n",
              "      <td>El Paso, TX</td>\n",
              "      <td>371.05</td>\n",
              "    </tr>\n",
              "    <tr>\n",
              "      <th>2708</th>\n",
              "      <td>2014</td>\n",
              "      <td>El Paso, TX</td>\n",
              "      <td>392.64</td>\n",
              "    </tr>\n",
              "    <tr>\n",
              "      <th>2777</th>\n",
              "      <td>2015</td>\n",
              "      <td>El Paso, TX</td>\n",
              "      <td>366.58</td>\n",
              "    </tr>\n",
              "  </tbody>\n",
              "</table>\n",
              "</div>"
            ],
            "text/plain": [
              "      Year      Country   Crime\n",
              "17    1975  El Paso, TX  438.48\n",
              "362   1980  El Paso, TX  661.22\n",
              "707   1985  El Paso, TX  771.16\n",
              "1052  1990  El Paso, TX  991.77\n",
              "1397  1995  El Paso, TX  838.34\n",
              "1742  2000  El Paso, TX  779.90\n",
              "1811  2001  El Paso, TX  760.86\n",
              "1880  2002  El Paso, TX  661.06\n",
              "1949  2003  El Paso, TX  597.21\n",
              "2018  2004  El Paso, TX  545.86\n",
              "2087  2005  El Paso, TX  435.50\n",
              "2156  2006  El Paso, TX  393.47\n",
              "2225  2007  El Paso, TX  417.84\n",
              "2294  2008  El Paso, TX  461.32\n",
              "2363  2009  El Paso, TX  457.33\n",
              "2432  2010  El Paso, TX  440.75\n",
              "2501  2011  El Paso, TX  431.21\n",
              "2570  2012  El Paso, TX  423.22\n",
              "2639  2013  El Paso, TX  371.05\n",
              "2708  2014  El Paso, TX  392.64\n",
              "2777  2015  El Paso, TX  366.58"
            ]
          },
          "metadata": {
            "tags": []
          },
          "execution_count": 73
        }
      ]
    },
    {
      "cell_type": "code",
      "metadata": {
        "id": "Tsk8yqCiD-sl",
        "colab_type": "code",
        "colab": {
          "base_uri": "https://localhost:8080/",
          "height": 347
        },
        "outputId": "7ca7d11b-0ef5-456f-808a-2bffb5cd9b83"
      },
      "source": [
        "fig, ax = plt.subplots()\n",
        "ax.plot(report_TX[\"Year\"], report_TX[\"Crime\"])\n",
        "ax.set(xlabel='YEAR', ylabel='CRIME COUNT',\n",
        "       title='CRIMES IN EL PASO BY YEAR')"
      ],
      "execution_count": 75,
      "outputs": [
        {
          "output_type": "execute_result",
          "data": {
            "text/plain": [
              "[Text(0, 0.5, 'CRIME COUNT'),\n",
              " Text(0.5, 0, 'YEAR'),\n",
              " Text(0.5, 1.0, 'CRIMES IN EL PASO BY YEAR')]"
            ]
          },
          "metadata": {
            "tags": []
          },
          "execution_count": 75
        },
        {
          "output_type": "display_data",
          "data": {
            "image/png": "[encoded data removed]",
            "text/plain": [
              "<Figure size 432x288 with 1 Axes>"
            ]
          },
          "metadata": {
            "tags": []
          }
        }
      ]
    },
    {
      "cell_type": "code",
      "metadata": {
        "id": "6QAtDK7aELom",
        "colab_type": "code",
        "colab": {
          "base_uri": "https://localhost:8080/",
          "height": 300
        },
        "outputId": "37f8fc24-c295-4779-9749-9e36a095afa3"
      },
      "source": [
        "plt.subplot(2, 1, 1)\n",
        "plt.plot(income[\"Year\"], income[\"Income\"], 'o-')\n",
        "plt.xlabel('YEAR')\n",
        "plt.ylabel('INCOME')\n",
        "\n",
        "\n",
        "plt.subplot(2, 1, 2)\n",
        "plt.plot(report_TX[\"Year\"], report_TX[\"Crime\"], 'o-')\n",
        "plt.xlabel('YEAR')\n",
        "plt.ylabel('CRIME')"
      ],
      "execution_count": 76,
      "outputs": [
        {
          "output_type": "execute_result",
          "data": {
            "text/plain": [
              "Text(0, 0.5, 'CRIME')"
            ]
          },
          "metadata": {
            "tags": []
          },
          "execution_count": 76
        },
        {
          "output_type": "display_data",
          "data": {
            "image/png": "[encoded data removed]",
            "text/plain": [
              "<Figure size 432x288 with 2 Axes>"
            ]
          },
          "metadata": {
            "tags": []
          }
        }
      ]
    },
    {
      "cell_type": "code",
      "metadata": {
        "id": "QglGnCnrEfrK",
        "colab_type": "code",
        "colab": {}
      },
      "source": [
        "total_crimes = (report_TX.groupby(['Year']).mean())\n",
        "avg_income = income.groupby(['Year']).mean()"
      ],
      "execution_count": 0,
      "outputs": []
    },
    {
      "cell_type": "code",
      "metadata": {
        "id": "TJzXftQgEjJW",
        "colab_type": "code",
        "colab": {
          "base_uri": "https://localhost:8080/",
          "height": 566
        },
        "outputId": "2e004921-97ec-48a1-8121-16b492eb65a3"
      },
      "source": [
        "frames = [total_crimes, avg_income]\n",
        "result = pd.concat(frames, axis=1, sort=True)\n",
        "result = result.dropna()\n",
        "result.head()\n",
        "result.columns = ['Crime','Income']\n",
        "result.plot(kind='Scatter', x='Income', y='Crime')\n",
        "\n",
        "\n",
        "result.plot()"
      ],
      "execution_count": 78,
      "outputs": [
        {
          "output_type": "execute_result",
          "data": {
            "text/plain": [
              "<matplotlib.axes._subplots.AxesSubplot at 0x7f07c0c266a0>"
            ]
          },
          "metadata": {
            "tags": []
          },
          "execution_count": 78
        },
        {
          "output_type": "display_data",
          "data": {
            "image/png": "[encoded data removed]",
            "text/plain": [
              "<Figure size 432x288 with 1 Axes>"
            ]
          },
          "metadata": {
            "tags": []
          }
        },
        {
          "output_type": "display_data",
          "data": {
            "image/png": "[encoded data removed]",
            "text/plain": [
              "<Figure size 432x288 with 1 Axes>"
            ]
          },
          "metadata": {
            "tags": []
          }
        }
      ]
    },
    {
      "cell_type": "code",
      "metadata": {
        "id": "8e63HmKnEqJQ",
        "colab_type": "code",
        "colab": {
          "base_uri": "https://localhost:8080/",
          "height": 303
        },
        "outputId": "6120cac4-375f-41b6-fae9-88a04acd1a4e"
      },
      "source": [
        "result.isnull().values.any()\n",
        "regr = LinearRegression()\n",
        "\n",
        "X = pd.DataFrame(income['Income'])\n",
        "y = pd.DataFrame(report_TX['Crime'])\n",
        "# print(y)\n",
        "regr.fit(X,y)\n",
        "print(regr.coef_)\n",
        "print(regr.intercept_)\n",
        "pred = regr.predict(X)\n",
        "plt.scatter(income['Income'],report_TX['Crime'],  color='g')\n",
        "\n",
        "plt.plot(X, pred, color='b')\n",
        "plt.show()"
      ],
      "execution_count": 79,
      "outputs": [
        {
          "output_type": "stream",
          "text": [
            "[[488.16098658]]\n",
            "[-3426.70471199]\n"
          ],
          "name": "stdout"
        },
        {
          "output_type": "display_data",
          "data": {
            "image/png": "[encoded data removed]",
            "text/plain": [
              "<Figure size 432x288 with 1 Axes>"
            ]
          },
          "metadata": {
            "tags": []
          }
        }
      ]
    },
    {
      "cell_type": "code",
      "metadata": {
        "id": "NEJiaK6nBKsp",
        "colab_type": "code",
        "colab": {
          "base_uri": "https://localhost:8080/",
          "height": 707
        },
        "outputId": "6c744232-249c-4742-f2f9-67259bb23d14"
      },
      "source": [
        "report_WDC.columns=['Year','Country',\"Crime\"]\n",
        "report_WDC=report_WDC.loc[report_WDC[\"Country\"].isin([\"Washington, DC\"])]\n",
        "\n",
        "start_date = 2000\n",
        "end_date=2016\n",
        "\n",
        "date_mask =  ((report_WDC['Year'] >= start_date) & (report_WDC['Year'] <= end_date)) | (report_WDC[\"Year\"]==1975) | (report_WDC[\"Year\"]==1980)  | (report_WDC[\"Year\"]==1985)  | (report_WDC[\"Year\"]==1990) | (report_WDC[\"Year\"]==1995)\n",
        "\n",
        "\n",
        "\n",
        "report_WDC=report_WDC.loc[date_mask]\n",
        "\n",
        "\n",
        "\n",
        "\n",
        "report_WDC\n"
      ],
      "execution_count": 80,
      "outputs": [
        {
          "output_type": "execute_result",
          "data": {
            "text/html": [
              "<div>\n",
              "<style scoped>\n",
              "    .dataframe tbody tr th:only-of-type {\n",
              "        vertical-align: middle;\n",
              "    }\n",
              "\n",
              "    .dataframe tbody tr th {\n",
              "        vertical-align: top;\n",
              "    }\n",
              "\n",
              "    .dataframe thead th {\n",
              "        text-align: right;\n",
              "    }\n",
              "</style>\n",
              "<table border=\"1\" class=\"dataframe\">\n",
              "  <thead>\n",
              "    <tr style=\"text-align: right;\">\n",
              "      <th></th>\n",
              "      <th>Year</th>\n",
              "      <th>Country</th>\n",
              "      <th>Crime</th>\n",
              "    </tr>\n",
              "  </thead>\n",
              "  <tbody>\n",
              "    <tr>\n",
              "      <th>66</th>\n",
              "      <td>1975</td>\n",
              "      <td>Washington, DC</td>\n",
              "      <td>1774.30</td>\n",
              "    </tr>\n",
              "    <tr>\n",
              "      <th>411</th>\n",
              "      <td>1980</td>\n",
              "      <td>Washington, DC</td>\n",
              "      <td>2010.60</td>\n",
              "    </tr>\n",
              "    <tr>\n",
              "      <th>756</th>\n",
              "      <td>1985</td>\n",
              "      <td>Washington, DC</td>\n",
              "      <td>1624.76</td>\n",
              "    </tr>\n",
              "    <tr>\n",
              "      <th>1101</th>\n",
              "      <td>1990</td>\n",
              "      <td>Washington, DC</td>\n",
              "      <td>2458.23</td>\n",
              "    </tr>\n",
              "    <tr>\n",
              "      <th>1446</th>\n",
              "      <td>1995</td>\n",
              "      <td>Washington, DC</td>\n",
              "      <td>2661.55</td>\n",
              "    </tr>\n",
              "    <tr>\n",
              "      <th>1791</th>\n",
              "      <td>2000</td>\n",
              "      <td>Washington, DC</td>\n",
              "      <td>1507.19</td>\n",
              "    </tr>\n",
              "    <tr>\n",
              "      <th>1860</th>\n",
              "      <td>2001</td>\n",
              "      <td>Washington, DC</td>\n",
              "      <td>1607.49</td>\n",
              "    </tr>\n",
              "    <tr>\n",
              "      <th>1929</th>\n",
              "      <td>2002</td>\n",
              "      <td>Washington, DC</td>\n",
              "      <td>1595.56</td>\n",
              "    </tr>\n",
              "    <tr>\n",
              "      <th>1998</th>\n",
              "      <td>2003</td>\n",
              "      <td>Washington, DC</td>\n",
              "      <td>1568.91</td>\n",
              "    </tr>\n",
              "    <tr>\n",
              "      <th>2067</th>\n",
              "      <td>2004</td>\n",
              "      <td>Washington, DC</td>\n",
              "      <td>1325.33</td>\n",
              "    </tr>\n",
              "    <tr>\n",
              "      <th>2136</th>\n",
              "      <td>2005</td>\n",
              "      <td>Washington, DC</td>\n",
              "      <td>1401.58</td>\n",
              "    </tr>\n",
              "    <tr>\n",
              "      <th>2205</th>\n",
              "      <td>2006</td>\n",
              "      <td>Washington, DC</td>\n",
              "      <td>1445.84</td>\n",
              "    </tr>\n",
              "    <tr>\n",
              "      <th>2274</th>\n",
              "      <td>2007</td>\n",
              "      <td>Washington, DC</td>\n",
              "      <td>1346.95</td>\n",
              "    </tr>\n",
              "    <tr>\n",
              "      <th>2343</th>\n",
              "      <td>2008</td>\n",
              "      <td>Washington, DC</td>\n",
              "      <td>1374.54</td>\n",
              "    </tr>\n",
              "    <tr>\n",
              "      <th>2412</th>\n",
              "      <td>2009</td>\n",
              "      <td>Washington, DC</td>\n",
              "      <td>1265.22</td>\n",
              "    </tr>\n",
              "    <tr>\n",
              "      <th>2481</th>\n",
              "      <td>2010</td>\n",
              "      <td>Washington, DC</td>\n",
              "      <td>1241.10</td>\n",
              "    </tr>\n",
              "    <tr>\n",
              "      <th>2550</th>\n",
              "      <td>2011</td>\n",
              "      <td>Washington, DC</td>\n",
              "      <td>1130.27</td>\n",
              "    </tr>\n",
              "    <tr>\n",
              "      <th>2619</th>\n",
              "      <td>2012</td>\n",
              "      <td>Washington, DC</td>\n",
              "      <td>1177.88</td>\n",
              "    </tr>\n",
              "    <tr>\n",
              "      <th>2688</th>\n",
              "      <td>2013</td>\n",
              "      <td>Washington, DC</td>\n",
              "      <td>1218.97</td>\n",
              "    </tr>\n",
              "    <tr>\n",
              "      <th>2757</th>\n",
              "      <td>2014</td>\n",
              "      <td>Washington, DC</td>\n",
              "      <td>1185.32</td>\n",
              "    </tr>\n",
              "    <tr>\n",
              "      <th>2826</th>\n",
              "      <td>2015</td>\n",
              "      <td>Washington, DC</td>\n",
              "      <td>1202.57</td>\n",
              "    </tr>\n",
              "  </tbody>\n",
              "</table>\n",
              "</div>"
            ],
            "text/plain": [
              "      Year         Country    Crime\n",
              "66    1975  Washington, DC  1774.30\n",
              "411   1980  Washington, DC  2010.60\n",
              "756   1985  Washington, DC  1624.76\n",
              "1101  1990  Washington, DC  2458.23\n",
              "1446  1995  Washington, DC  2661.55\n",
              "1791  2000  Washington, DC  1507.19\n",
              "1860  2001  Washington, DC  1607.49\n",
              "1929  2002  Washington, DC  1595.56\n",
              "1998  2003  Washington, DC  1568.91\n",
              "2067  2004  Washington, DC  1325.33\n",
              "2136  2005  Washington, DC  1401.58\n",
              "2205  2006  Washington, DC  1445.84\n",
              "2274  2007  Washington, DC  1346.95\n",
              "2343  2008  Washington, DC  1374.54\n",
              "2412  2009  Washington, DC  1265.22\n",
              "2481  2010  Washington, DC  1241.10\n",
              "2550  2011  Washington, DC  1130.27\n",
              "2619  2012  Washington, DC  1177.88\n",
              "2688  2013  Washington, DC  1218.97\n",
              "2757  2014  Washington, DC  1185.32\n",
              "2826  2015  Washington, DC  1202.57"
            ]
          },
          "metadata": {
            "tags": []
          },
          "execution_count": 80
        }
      ]
    },
    {
      "cell_type": "code",
      "metadata": {
        "id": "jilgHzwmBsd5",
        "colab_type": "code",
        "colab": {
          "base_uri": "https://localhost:8080/",
          "height": 347
        },
        "outputId": "8df1e3d8-a58d-47f3-d600-8d3f52c6e653"
      },
      "source": [
        "fig, ax = plt.subplots()\n",
        "ax.plot(report_WDC[\"Year\"], report_WDC[\"Crime\"])\n",
        "ax.set(xlabel='YEAR', ylabel='CRIME COUNT',\n",
        "       title='CRIMES IN WASHINGTON DC BY YEAR')"
      ],
      "execution_count": 81,
      "outputs": [
        {
          "output_type": "execute_result",
          "data": {
            "text/plain": [
              "[Text(0, 0.5, 'CRIME COUNT'),\n",
              " Text(0.5, 0, 'YEAR'),\n",
              " Text(0.5, 1.0, 'CRIMES IN WASHINGTON DC BY YEAR')]"
            ]
          },
          "metadata": {
            "tags": []
          },
          "execution_count": 81
        },
        {
          "output_type": "display_data",
          "data": {
            "image/png": "[encoded data removed]",
            "text/plain": [
              "<Figure size 432x288 with 1 Axes>"
            ]
          },
          "metadata": {
            "tags": []
          }
        }
      ]
    },
    {
      "cell_type": "code",
      "metadata": {
        "id": "oUzxxDizB5xs",
        "colab_type": "code",
        "colab": {
          "base_uri": "https://localhost:8080/",
          "height": 300
        },
        "outputId": "7902c20e-cc2a-4a25-e658-4153e53fa1ce"
      },
      "source": [
        "plt.subplot(2, 1, 1)\n",
        "plt.plot(income[\"Year\"], income[\"Income\"], 'o-')\n",
        "plt.xlabel('YEAR')\n",
        "plt.ylabel('INCOME')\n",
        "\n",
        "\n",
        "plt.subplot(2, 1, 2)\n",
        "plt.plot(report_WDC[\"Year\"], report_WDC[\"Crime\"], 'o-')\n",
        "plt.xlabel('YEAR')\n",
        "plt.ylabel('CRIME')"
      ],
      "execution_count": 82,
      "outputs": [
        {
          "output_type": "execute_result",
          "data": {
            "text/plain": [
              "Text(0, 0.5, 'CRIME')"
            ]
          },
          "metadata": {
            "tags": []
          },
          "execution_count": 82
        },
        {
          "output_type": "display_data",
          "data": {
            "image/png": "[encoded data removed]",
            "text/plain": [
              "<Figure size 432x288 with 2 Axes>"
            ]
          },
          "metadata": {
            "tags": []
          }
        }
      ]
    },
    {
      "cell_type": "code",
      "metadata": {
        "id": "2OIhd_ZOCQ8i",
        "colab_type": "code",
        "colab": {}
      },
      "source": [
        "total_crimes = (report_WDC.groupby(['Year']).mean())\n",
        "avg_income = income.groupby(['Year']).mean()"
      ],
      "execution_count": 0,
      "outputs": []
    },
    {
      "cell_type": "code",
      "metadata": {
        "id": "lZ7wr1cHCWb9",
        "colab_type": "code",
        "colab": {
          "base_uri": "https://localhost:8080/",
          "height": 566
        },
        "outputId": "21eef18d-2f98-49e9-d64a-6da8ca0dfdc3"
      },
      "source": [
        "frames = [total_crimes, avg_income]\n",
        "result = pd.concat(frames, axis=1, sort=True)\n",
        "result = result.dropna()\n",
        "result.head()\n",
        "result.columns = ['Crime','Income']\n",
        "result.plot(kind='Scatter', x='Income', y='Crime')\n",
        "\n",
        "\n",
        "result.plot()"
      ],
      "execution_count": 84,
      "outputs": [
        {
          "output_type": "execute_result",
          "data": {
            "text/plain": [
              "<matplotlib.axes._subplots.AxesSubplot at 0x7f07c11a9e48>"
            ]
          },
          "metadata": {
            "tags": []
          },
          "execution_count": 84
        },
        {
          "output_type": "display_data",
          "data": {
            "image/png": "[encoded data removed]",
            "text/plain": [
              "<Figure size 432x288 with 1 Axes>"
            ]
          },
          "metadata": {
            "tags": []
          }
        },
        {
          "output_type": "display_data",
          "data": {
            "image/png": "[encoded data removed]",
            "text/plain": [
              "<Figure size 432x288 with 1 Axes>"
            ]
          },
          "metadata": {
            "tags": []
          }
        }
      ]
    },
    {
      "cell_type": "code",
      "metadata": {
        "id": "aFaj8SiVCexl",
        "colab_type": "code",
        "colab": {
          "base_uri": "https://localhost:8080/",
          "height": 303
        },
        "outputId": "f71c10df-6062-4b93-9fd5-4cae6c1c3fd4"
      },
      "source": [
        "result.isnull().values.any()\n",
        "regr = LinearRegression()\n",
        "\n",
        "X = pd.DataFrame(income['Income'])\n",
        "y = pd.DataFrame(report_WDC['Crime'])\n",
        "# print(y)\n",
        "regr.fit(X,y)\n",
        "print(regr.coef_)\n",
        "print(regr.intercept_)\n",
        "pred = regr.predict(X)\n",
        "plt.scatter(income['Income'],report_WDC['Crime'],  color='g')\n",
        "\n",
        "plt.plot(X, pred, color='b')\n",
        "plt.show()"
      ],
      "execution_count": 85,
      "outputs": [
        {
          "output_type": "stream",
          "text": [
            "[[789.84203786]]\n",
            "[-4911.25185633]\n"
          ],
          "name": "stdout"
        },
        {
          "output_type": "display_data",
          "data": {
            "image/png": "[encoded data removed]",
            "text/plain": [
              "<Figure size 432x288 with 1 Axes>"
            ]
          },
          "metadata": {
            "tags": []
          }
        }
      ]
    },
    {
      "cell_type": "code",
      "metadata": {
        "id": "ofyhao32-X5L",
        "colab_type": "code",
        "colab": {
          "base_uri": "https://localhost:8080/",
          "height": 707
        },
        "outputId": "54a63a70-9695-4771-8774-0199f319de72"
      },
      "source": [
        "report_NY.columns=['Year','Country',\"Crime\"]\n",
        "report_NY=report_NY.loc[report_NY[\"Country\"].isin([\"New York City, NY\"])]\n",
        "\n",
        "start_date = 2000\n",
        "end_date=2016\n",
        "\n",
        "date_mask =  ((report_NY['Year'] >= start_date) & (report_NY['Year'] <= end_date)) | (report_NY[\"Year\"]==1975) | (report_NY[\"Year\"]==1980)  | (report_NY[\"Year\"]==1985)  | (report_NY[\"Year\"]==1990) | (report_NY[\"Year\"]==1995)\n",
        "\n",
        "\n",
        "\n",
        "report_NY=report_NY.loc[date_mask]\n",
        "\n",
        "\n",
        "\n",
        "\n",
        "report_NY\n"
      ],
      "execution_count": 86,
      "outputs": [
        {
          "output_type": "execute_result",
          "data": {
            "text/html": [
              "<div>\n",
              "<style scoped>\n",
              "    .dataframe tbody tr th:only-of-type {\n",
              "        vertical-align: middle;\n",
              "    }\n",
              "\n",
              "    .dataframe tbody tr th {\n",
              "        vertical-align: top;\n",
              "    }\n",
              "\n",
              "    .dataframe thead th {\n",
              "        text-align: right;\n",
              "    }\n",
              "</style>\n",
              "<table border=\"1\" class=\"dataframe\">\n",
              "  <thead>\n",
              "    <tr style=\"text-align: right;\">\n",
              "      <th></th>\n",
              "      <th>Year</th>\n",
              "      <th>Country</th>\n",
              "      <th>Crime</th>\n",
              "    </tr>\n",
              "  </thead>\n",
              "  <tbody>\n",
              "    <tr>\n",
              "      <th>41</th>\n",
              "      <td>1975</td>\n",
              "      <td>New York City, NY</td>\n",
              "      <td>1780.83</td>\n",
              "    </tr>\n",
              "    <tr>\n",
              "      <th>386</th>\n",
              "      <td>1980</td>\n",
              "      <td>New York City, NY</td>\n",
              "      <td>2125.68</td>\n",
              "    </tr>\n",
              "    <tr>\n",
              "      <th>731</th>\n",
              "      <td>1985</td>\n",
              "      <td>New York City, NY</td>\n",
              "      <td>1881.30</td>\n",
              "    </tr>\n",
              "    <tr>\n",
              "      <th>1076</th>\n",
              "      <td>1990</td>\n",
              "      <td>New York City, NY</td>\n",
              "      <td>2383.62</td>\n",
              "    </tr>\n",
              "    <tr>\n",
              "      <th>1421</th>\n",
              "      <td>1995</td>\n",
              "      <td>New York City, NY</td>\n",
              "      <td>1557.79</td>\n",
              "    </tr>\n",
              "    <tr>\n",
              "      <th>1766</th>\n",
              "      <td>2000</td>\n",
              "      <td>New York City, NY</td>\n",
              "      <td>945.17</td>\n",
              "    </tr>\n",
              "    <tr>\n",
              "      <th>1835</th>\n",
              "      <td>2001</td>\n",
              "      <td>New York City, NY</td>\n",
              "      <td>849.72</td>\n",
              "    </tr>\n",
              "    <tr>\n",
              "      <th>1904</th>\n",
              "      <td>2002</td>\n",
              "      <td>New York City, NY</td>\n",
              "      <td>789.63</td>\n",
              "    </tr>\n",
              "    <tr>\n",
              "      <th>1973</th>\n",
              "      <td>2003</td>\n",
              "      <td>New York City, NY</td>\n",
              "      <td>734.10</td>\n",
              "    </tr>\n",
              "    <tr>\n",
              "      <th>2042</th>\n",
              "      <td>2004</td>\n",
              "      <td>New York City, NY</td>\n",
              "      <td>687.39</td>\n",
              "    </tr>\n",
              "    <tr>\n",
              "      <th>2111</th>\n",
              "      <td>2005</td>\n",
              "      <td>New York City, NY</td>\n",
              "      <td>673.05</td>\n",
              "    </tr>\n",
              "    <tr>\n",
              "      <th>2180</th>\n",
              "      <td>2006</td>\n",
              "      <td>New York City, NY</td>\n",
              "      <td>637.92</td>\n",
              "    </tr>\n",
              "    <tr>\n",
              "      <th>2249</th>\n",
              "      <td>2007</td>\n",
              "      <td>New York City, NY</td>\n",
              "      <td>613.77</td>\n",
              "    </tr>\n",
              "    <tr>\n",
              "      <th>2318</th>\n",
              "      <td>2008</td>\n",
              "      <td>New York City, NY</td>\n",
              "      <td>580.34</td>\n",
              "    </tr>\n",
              "    <tr>\n",
              "      <th>2387</th>\n",
              "      <td>2009</td>\n",
              "      <td>New York City, NY</td>\n",
              "      <td>551.81</td>\n",
              "    </tr>\n",
              "    <tr>\n",
              "      <th>2456</th>\n",
              "      <td>2010</td>\n",
              "      <td>New York City, NY</td>\n",
              "      <td>593.13</td>\n",
              "    </tr>\n",
              "    <tr>\n",
              "      <th>2525</th>\n",
              "      <td>2011</td>\n",
              "      <td>New York City, NY</td>\n",
              "      <td>623.60</td>\n",
              "    </tr>\n",
              "    <tr>\n",
              "      <th>2594</th>\n",
              "      <td>2012</td>\n",
              "      <td>New York City, NY</td>\n",
              "      <td>639.29</td>\n",
              "    </tr>\n",
              "    <tr>\n",
              "      <th>2663</th>\n",
              "      <td>2013</td>\n",
              "      <td>New York City, NY</td>\n",
              "      <td>623.91</td>\n",
              "    </tr>\n",
              "    <tr>\n",
              "      <th>2732</th>\n",
              "      <td>2014</td>\n",
              "      <td>New York City, NY</td>\n",
              "      <td>596.70</td>\n",
              "    </tr>\n",
              "    <tr>\n",
              "      <th>2801</th>\n",
              "      <td>2015</td>\n",
              "      <td>New York City, NY</td>\n",
              "      <td>585.77</td>\n",
              "    </tr>\n",
              "  </tbody>\n",
              "</table>\n",
              "</div>"
            ],
            "text/plain": [
              "      Year            Country    Crime\n",
              "41    1975  New York City, NY  1780.83\n",
              "386   1980  New York City, NY  2125.68\n",
              "731   1985  New York City, NY  1881.30\n",
              "1076  1990  New York City, NY  2383.62\n",
              "1421  1995  New York City, NY  1557.79\n",
              "1766  2000  New York City, NY   945.17\n",
              "1835  2001  New York City, NY   849.72\n",
              "1904  2002  New York City, NY   789.63\n",
              "1973  2003  New York City, NY   734.10\n",
              "2042  2004  New York City, NY   687.39\n",
              "2111  2005  New York City, NY   673.05\n",
              "2180  2006  New York City, NY   637.92\n",
              "2249  2007  New York City, NY   613.77\n",
              "2318  2008  New York City, NY   580.34\n",
              "2387  2009  New York City, NY   551.81\n",
              "2456  2010  New York City, NY   593.13\n",
              "2525  2011  New York City, NY   623.60\n",
              "2594  2012  New York City, NY   639.29\n",
              "2663  2013  New York City, NY   623.91\n",
              "2732  2014  New York City, NY   596.70\n",
              "2801  2015  New York City, NY   585.77"
            ]
          },
          "metadata": {
            "tags": []
          },
          "execution_count": 86
        }
      ]
    },
    {
      "cell_type": "code",
      "metadata": {
        "id": "tBlfK4yp_pgQ",
        "colab_type": "code",
        "colab": {
          "base_uri": "https://localhost:8080/",
          "height": 347
        },
        "outputId": "af000a83-a40d-4beb-d8cd-c3d12561440a"
      },
      "source": [
        "fig, ax = plt.subplots()\n",
        "ax.plot(report_NY[\"Year\"], report_NY[\"Crime\"])\n",
        "ax.set(xlabel='YEAR', ylabel='CRIME COUNT',\n",
        "       title='CRIMES IN NEW YORK CITY BY YEAR')"
      ],
      "execution_count": 88,
      "outputs": [
        {
          "output_type": "execute_result",
          "data": {
            "text/plain": [
              "[Text(0, 0.5, 'CRIME COUNT'),\n",
              " Text(0.5, 0, 'YEAR'),\n",
              " Text(0.5, 1.0, 'CRIMES IN NEW YORK CITY BY YEAR')]"
            ]
          },
          "metadata": {
            "tags": []
          },
          "execution_count": 88
        },
        {
          "output_type": "display_data",
          "data": {
            "image/png": "[encoded data removed]",
            "text/plain": [
              "<Figure size 432x288 with 1 Axes>"
            ]
          },
          "metadata": {
            "tags": []
          }
        }
      ]
    },
    {
      "cell_type": "code",
      "metadata": {
        "id": "t-_yGSd2_4iE",
        "colab_type": "code",
        "colab": {
          "base_uri": "https://localhost:8080/",
          "height": 300
        },
        "outputId": "8a81c384-af69-43be-9ea8-edfe0a1d4dca"
      },
      "source": [
        "plt.subplot(2, 1, 1)\n",
        "plt.plot(income[\"Year\"], income[\"Income\"], 'o-')\n",
        "plt.xlabel('YEAR')\n",
        "plt.ylabel('INCOME')\n",
        "\n",
        "\n",
        "plt.subplot(2, 1, 2)\n",
        "plt.plot(report_NY[\"Year\"], report_NY[\"Crime\"], 'o-')\n",
        "plt.xlabel('YEAR')\n",
        "plt.ylabel('CRIME')"
      ],
      "execution_count": 89,
      "outputs": [
        {
          "output_type": "execute_result",
          "data": {
            "text/plain": [
              "Text(0, 0.5, 'CRIME')"
            ]
          },
          "metadata": {
            "tags": []
          },
          "execution_count": 89
        },
        {
          "output_type": "display_data",
          "data": {
            "image/png": "[encoded data removed]",
            "text/plain": [
              "<Figure size 432x288 with 2 Axes>"
            ]
          },
          "metadata": {
            "tags": []
          }
        }
      ]
    },
    {
      "cell_type": "code",
      "metadata": {
        "id": "6UB4AqRrAdD1",
        "colab_type": "code",
        "colab": {}
      },
      "source": [
        "total_crimes = (report_NY.groupby(['Year']).mean())\n",
        "avg_income = income.groupby(['Year']).mean()"
      ],
      "execution_count": 0,
      "outputs": []
    },
    {
      "cell_type": "code",
      "metadata": {
        "id": "McxO1hAYAjIy",
        "colab_type": "code",
        "colab": {
          "base_uri": "https://localhost:8080/",
          "height": 566
        },
        "outputId": "0ad8c2a4-e4d3-457b-e7c6-2e596d648631"
      },
      "source": [
        "frames = [total_crimes, avg_income]\n",
        "result = pd.concat(frames, axis=1, sort=True)\n",
        "result = result.dropna()\n",
        "result.head()\n",
        "result.columns = ['Crime','Income']\n",
        "result.plot(kind='Scatter', x='Income', y='Crime')\n",
        "\n",
        "\n",
        "result.plot()"
      ],
      "execution_count": 91,
      "outputs": [
        {
          "output_type": "execute_result",
          "data": {
            "text/plain": [
              "<matplotlib.axes._subplots.AxesSubplot at 0x7f07c0947048>"
            ]
          },
          "metadata": {
            "tags": []
          },
          "execution_count": 91
        },
        {
          "output_type": "display_data",
          "data": {
            "image/png": "[encoded data removed]",
            "text/plain": [
              "<Figure size 432x288 with 1 Axes>"
            ]
          },
          "metadata": {
            "tags": []
          }
        },
        {
          "output_type": "display_data",
          "data": {
            "image/png": "[encoded data removed]",
            "text/plain": [
              "<Figure size 432x288 with 1 Axes>"
            ]
          },
          "metadata": {
            "tags": []
          }
        }
      ]
    },
    {
      "cell_type": "code",
      "metadata": {
        "id": "f2d68rGgAs2u",
        "colab_type": "code",
        "colab": {
          "base_uri": "https://localhost:8080/",
          "height": 303
        },
        "outputId": "c4c8f6ca-df4b-4209-f24d-872409b9687b"
      },
      "source": [
        "result.isnull().values.any()\n",
        "regr = LinearRegression()\n",
        "\n",
        "X = pd.DataFrame(income['Income'])\n",
        "y = pd.DataFrame(report_NY['Crime'])\n",
        "# print(y)\n",
        "regr.fit(X,y)\n",
        "print(regr.coef_)\n",
        "print(regr.intercept_)\n",
        "pred = regr.predict(X)\n",
        "plt.scatter(income['Income'],report_NY['Crime'],  color='g')\n",
        "\n",
        "plt.plot(X, pred, color='b')\n",
        "plt.show()\n"
      ],
      "execution_count": 92,
      "outputs": [
        {
          "output_type": "stream",
          "text": [
            "[[576.74852687]]\n",
            "[-3729.2221536]\n"
          ],
          "name": "stdout"
        },
        {
          "output_type": "display_data",
          "data": {
            "image/png": "[encoded data removed]",
            "text/plain": [
              "<Figure size 432x288 with 1 Axes>"
            ]
          },
          "metadata": {
            "tags": []
          }
        }
      ]
    },
    {
      "cell_type": "code",
      "metadata": {
        "id": "ka2HJ-v53ic_",
        "colab_type": "code",
        "outputId": "f350a06a-47f8-4300-927c-91205c15c9ac",
        "colab": {
          "base_uri": "https://localhost:8080/",
          "height": 707
        }
      },
      "source": [
        "report.columns=['Year','Country',\"Crime\"]\n",
        "report=report.loc[report[\"Country\"].isin([\"United States\"])]\n",
        "\n",
        "\n",
        "start_date = 2000\n",
        "end_date=2016\n",
        "\n",
        "date_mask =  ((report['Year'] >= start_date) & (report['Year'] <= end_date)) | (report[\"Year\"]==1975) | (report[\"Year\"]==1980)  | (report[\"Year\"]==1985)  | (report[\"Year\"]==1990) | (report[\"Year\"]==1995)\n",
        "\n",
        "\n",
        "\n",
        "report=report.loc[date_mask]\n",
        "\n",
        "\n",
        "\n",
        "\n",
        "report\n"
      ],
      "execution_count": 93,
      "outputs": [
        {
          "output_type": "execute_result",
          "data": {
            "text/html": [
              "<div>\n",
              "<style scoped>\n",
              "    .dataframe tbody tr th:only-of-type {\n",
              "        vertical-align: middle;\n",
              "    }\n",
              "\n",
              "    .dataframe tbody tr th {\n",
              "        vertical-align: top;\n",
              "    }\n",
              "\n",
              "    .dataframe thead th {\n",
              "        text-align: right;\n",
              "    }\n",
              "</style>\n",
              "<table border=\"1\" class=\"dataframe\">\n",
              "  <thead>\n",
              "    <tr style=\"text-align: right;\">\n",
              "      <th></th>\n",
              "      <th>Year</th>\n",
              "      <th>Country</th>\n",
              "      <th>Crime</th>\n",
              "    </tr>\n",
              "  </thead>\n",
              "  <tbody>\n",
              "    <tr>\n",
              "      <th>68</th>\n",
              "      <td>1975</td>\n",
              "      <td>United States</td>\n",
              "      <td>487.8</td>\n",
              "    </tr>\n",
              "    <tr>\n",
              "      <th>413</th>\n",
              "      <td>1980</td>\n",
              "      <td>United States</td>\n",
              "      <td>596.6</td>\n",
              "    </tr>\n",
              "    <tr>\n",
              "      <th>758</th>\n",
              "      <td>1985</td>\n",
              "      <td>United States</td>\n",
              "      <td>558.1</td>\n",
              "    </tr>\n",
              "    <tr>\n",
              "      <th>1103</th>\n",
              "      <td>1990</td>\n",
              "      <td>United States</td>\n",
              "      <td>729.6</td>\n",
              "    </tr>\n",
              "    <tr>\n",
              "      <th>1448</th>\n",
              "      <td>1995</td>\n",
              "      <td>United States</td>\n",
              "      <td>684.5</td>\n",
              "    </tr>\n",
              "    <tr>\n",
              "      <th>1793</th>\n",
              "      <td>2000</td>\n",
              "      <td>United States</td>\n",
              "      <td>506.5</td>\n",
              "    </tr>\n",
              "    <tr>\n",
              "      <th>1862</th>\n",
              "      <td>2001</td>\n",
              "      <td>United States</td>\n",
              "      <td>504.5</td>\n",
              "    </tr>\n",
              "    <tr>\n",
              "      <th>1931</th>\n",
              "      <td>2002</td>\n",
              "      <td>United States</td>\n",
              "      <td>494.4</td>\n",
              "    </tr>\n",
              "    <tr>\n",
              "      <th>2000</th>\n",
              "      <td>2003</td>\n",
              "      <td>United States</td>\n",
              "      <td>475.8</td>\n",
              "    </tr>\n",
              "    <tr>\n",
              "      <th>2069</th>\n",
              "      <td>2004</td>\n",
              "      <td>United States</td>\n",
              "      <td>463.2</td>\n",
              "    </tr>\n",
              "    <tr>\n",
              "      <th>2138</th>\n",
              "      <td>2005</td>\n",
              "      <td>United States</td>\n",
              "      <td>469.0</td>\n",
              "    </tr>\n",
              "    <tr>\n",
              "      <th>2207</th>\n",
              "      <td>2006</td>\n",
              "      <td>United States</td>\n",
              "      <td>479.3</td>\n",
              "    </tr>\n",
              "    <tr>\n",
              "      <th>2276</th>\n",
              "      <td>2007</td>\n",
              "      <td>United States</td>\n",
              "      <td>471.8</td>\n",
              "    </tr>\n",
              "    <tr>\n",
              "      <th>2345</th>\n",
              "      <td>2008</td>\n",
              "      <td>United States</td>\n",
              "      <td>458.6</td>\n",
              "    </tr>\n",
              "    <tr>\n",
              "      <th>2414</th>\n",
              "      <td>2009</td>\n",
              "      <td>United States</td>\n",
              "      <td>431.9</td>\n",
              "    </tr>\n",
              "    <tr>\n",
              "      <th>2483</th>\n",
              "      <td>2010</td>\n",
              "      <td>United States</td>\n",
              "      <td>404.5</td>\n",
              "    </tr>\n",
              "    <tr>\n",
              "      <th>2552</th>\n",
              "      <td>2011</td>\n",
              "      <td>United States</td>\n",
              "      <td>387.1</td>\n",
              "    </tr>\n",
              "    <tr>\n",
              "      <th>2621</th>\n",
              "      <td>2012</td>\n",
              "      <td>United States</td>\n",
              "      <td>386.9</td>\n",
              "    </tr>\n",
              "    <tr>\n",
              "      <th>2690</th>\n",
              "      <td>2013</td>\n",
              "      <td>United States</td>\n",
              "      <td>369.1</td>\n",
              "    </tr>\n",
              "    <tr>\n",
              "      <th>2759</th>\n",
              "      <td>2014</td>\n",
              "      <td>United States</td>\n",
              "      <td>361.6</td>\n",
              "    </tr>\n",
              "    <tr>\n",
              "      <th>2828</th>\n",
              "      <td>2015</td>\n",
              "      <td>United States</td>\n",
              "      <td>372.6</td>\n",
              "    </tr>\n",
              "  </tbody>\n",
              "</table>\n",
              "</div>"
            ],
            "text/plain": [
              "      Year        Country  Crime\n",
              "68    1975  United States  487.8\n",
              "413   1980  United States  596.6\n",
              "758   1985  United States  558.1\n",
              "1103  1990  United States  729.6\n",
              "1448  1995  United States  684.5\n",
              "1793  2000  United States  506.5\n",
              "1862  2001  United States  504.5\n",
              "1931  2002  United States  494.4\n",
              "2000  2003  United States  475.8\n",
              "2069  2004  United States  463.2\n",
              "2138  2005  United States  469.0\n",
              "2207  2006  United States  479.3\n",
              "2276  2007  United States  471.8\n",
              "2345  2008  United States  458.6\n",
              "2414  2009  United States  431.9\n",
              "2483  2010  United States  404.5\n",
              "2552  2011  United States  387.1\n",
              "2621  2012  United States  386.9\n",
              "2690  2013  United States  369.1\n",
              "2759  2014  United States  361.6\n",
              "2828  2015  United States  372.6"
            ]
          },
          "metadata": {
            "tags": []
          },
          "execution_count": 93
        }
      ]
    },
    {
      "cell_type": "code",
      "metadata": {
        "id": "sWgZrJ8IAOLm",
        "colab_type": "code",
        "outputId": "a66c4dc9-fe4a-47ee-c81e-492977e30cd6",
        "colab": {
          "base_uri": "https://localhost:8080/",
          "height": 347
        }
      },
      "source": [
        "fig, ax = plt.subplots()\n",
        "ax.plot(report[\"Year\"], report[\"Crime\"])\n",
        "ax.set(xlabel='YEAR', ylabel='CRIME COUNT',\n",
        "       title='CRIMES IN UNITED STATES BY YEAR')"
      ],
      "execution_count": 94,
      "outputs": [
        {
          "output_type": "execute_result",
          "data": {
            "text/plain": [
              "[Text(0, 0.5, 'CRIME COUNT'),\n",
              " Text(0.5, 0, 'YEAR'),\n",
              " Text(0.5, 1.0, 'CRIMES IN UNITED STATES BY YEAR')]"
            ]
          },
          "metadata": {
            "tags": []
          },
          "execution_count": 94
        },
        {
          "output_type": "display_data",
          "data": {
            "image/png": "[encoded data removed]",
            "text/plain": [
              "<Figure size 432x288 with 1 Axes>"
            ]
          },
          "metadata": {
            "tags": []
          }
        }
      ]
    },
    {
      "cell_type": "code",
      "metadata": {
        "id": "-PDdRTx0DITM",
        "colab_type": "code",
        "outputId": "f0b4bd91-7dd8-4dde-f474-21e6dd52ea8c",
        "colab": {
          "base_uri": "https://localhost:8080/",
          "height": 300
        }
      },
      "source": [
        "plt.subplot(2, 1, 1)\n",
        "plt.plot(income[\"Year\"], income[\"Income\"], 'o-')\n",
        "plt.xlabel('YEAR')\n",
        "plt.ylabel('INCOME')\n",
        "\n",
        "\n",
        "plt.subplot(2, 1, 2)\n",
        "plt.plot(report[\"Year\"], report[\"Crime\"], 'o-')\n",
        "plt.xlabel('YEAR')\n",
        "plt.ylabel('CRIME')"
      ],
      "execution_count": 95,
      "outputs": [
        {
          "output_type": "execute_result",
          "data": {
            "text/plain": [
              "Text(0, 0.5, 'CRIME')"
            ]
          },
          "metadata": {
            "tags": []
          },
          "execution_count": 95
        },
        {
          "output_type": "display_data",
          "data": {
            "image/png": "[encoded data removed]",
            "text/plain": [
              "<Figure size 432x288 with 2 Axes>"
            ]
          },
          "metadata": {
            "tags": []
          }
        }
      ]
    },
    {
      "cell_type": "code",
      "metadata": {
        "id": "kmj4lZ4nGt8L",
        "colab_type": "code",
        "colab": {}
      },
      "source": [
        "total_crimes = (report.groupby(['Year']).mean())\n",
        "avg_income = income.groupby(['Year']).mean()"
      ],
      "execution_count": 0,
      "outputs": []
    },
    {
      "cell_type": "code",
      "metadata": {
        "id": "010vW4YdGo03",
        "colab_type": "code",
        "outputId": "8a07832c-9432-4bcd-a9e1-485555e6e631",
        "colab": {
          "base_uri": "https://localhost:8080/",
          "height": 566
        }
      },
      "source": [
        "frames = [total_crimes, avg_income]\n",
        "result = pd.concat(frames, axis=1, sort=True)\n",
        "result = result.dropna()\n",
        "result.head()\n",
        "result.columns = ['Crime','Income']\n",
        "result.plot(kind='Scatter', x='Income', y='Crime')\n",
        "\n",
        "\n",
        "result.plot()"
      ],
      "execution_count": 97,
      "outputs": [
        {
          "output_type": "execute_result",
          "data": {
            "text/plain": [
              "<matplotlib.axes._subplots.AxesSubplot at 0x7f07c07a2c18>"
            ]
          },
          "metadata": {
            "tags": []
          },
          "execution_count": 97
        },
        {
          "output_type": "display_data",
          "data": {
            "image/png": "[encoded data removed]",
            "text/plain": [
              "<Figure size 432x288 with 1 Axes>"
            ]
          },
          "metadata": {
            "tags": []
          }
        },
        {
          "output_type": "display_data",
          "data": {
            "image/png": "[encoded data removed]",
            "text/plain": [
              "<Figure size 432x288 with 1 Axes>"
            ]
          },
          "metadata": {
            "tags": []
          }
        }
      ]
    },
    {
      "cell_type": "code",
      "metadata": {
        "id": "t9lkUckWD_Q6",
        "colab_type": "code",
        "outputId": "2362002b-301a-4dd4-9d41-2b0ffd79eeb1",
        "colab": {
          "base_uri": "https://localhost:8080/",
          "height": 303
        }
      },
      "source": [
        "result.isnull().values.any()\n",
        "regr = LinearRegression()\n",
        "\n",
        "X = pd.DataFrame(income['Income'])\n",
        "y = pd.DataFrame(report['Crime'])\n",
        "# print(y)\n",
        "regr.fit(X,y)\n",
        "print(regr.coef_)\n",
        "print(regr.intercept_)\n",
        "pred = regr.predict(X)\n",
        "plt.scatter(income['Income'],report['Crime'],  color='g')\n",
        "\n",
        "plt.plot(X, pred, color='b')\n",
        "plt.show()\n",
        "\n",
        "\n"
      ],
      "execution_count": 98,
      "outputs": [
        {
          "output_type": "stream",
          "text": [
            "[[233.05741618]]\n",
            "[-1419.88964386]\n"
          ],
          "name": "stdout"
        },
        {
          "output_type": "display_data",
          "data": {
            "image/png": "[encoded data removed]",
            "text/plain": [
              "<Figure size 432x288 with 1 Axes>"
            ]
          },
          "metadata": {
            "tags": []
          }
        }
      ]
    },
    {
      "cell_type": "markdown",
      "metadata": {
        "id": "fO9eyeDkojtj",
        "colab_type": "text"
      },
      "source": [
        "This shows us that people commit crime when they earn more money. That is the direct proportion. "
      ]
    },
    {
      "cell_type": "code",
      "metadata": {
        "id": "swnK4_eOjo6K",
        "colab_type": "code",
        "colab": {}
      },
      "source": [
        "\n",
        "X_train,X_test,y_train,y_test=train_test_split(X,y,test_size=0.25,random_state=0)\n"
      ],
      "execution_count": 0,
      "outputs": []
    },
    {
      "cell_type": "code",
      "metadata": {
        "id": "wpXpHzD_jtm-",
        "colab_type": "code",
        "outputId": "cb81dd90-a0ac-43eb-f25f-8c412626b535",
        "colab": {
          "base_uri": "https://localhost:8080/",
          "height": 34
        }
      },
      "source": [
        "regr.fit(X_train,y_train)"
      ],
      "execution_count": 100,
      "outputs": [
        {
          "output_type": "execute_result",
          "data": {
            "text/plain": [
              "LinearRegression(copy_X=True, fit_intercept=True, n_jobs=None, normalize=False)"
            ]
          },
          "metadata": {
            "tags": []
          },
          "execution_count": 100
        }
      ]
    },
    {
      "cell_type": "code",
      "metadata": {
        "id": "CUcwhzSFkuV3",
        "colab_type": "code",
        "outputId": "7ae3d874-49d8-4ff6-c87e-07acb9633b6d",
        "colab": {
          "base_uri": "https://localhost:8080/",
          "height": 121
        }
      },
      "source": [
        "y_pred=regr.predict(X_test)\n",
        "y_pred"
      ],
      "execution_count": 101,
      "outputs": [
        {
          "output_type": "execute_result",
          "data": {
            "text/plain": [
              "array([[546.22887721],\n",
              "       [487.34641382],\n",
              "       [428.46395043],\n",
              "       [462.81205407],\n",
              "       [489.79984979],\n",
              "       [499.61359369]])"
            ]
          },
          "metadata": {
            "tags": []
          },
          "execution_count": 101
        }
      ]
    },
    {
      "cell_type": "markdown",
      "metadata": {
        "id": "gae2adNUoPD0",
        "colab_type": "text"
      },
      "source": [
        "This is the prediction of lineer regression model for Crime by using Economic Freedom value."
      ]
    },
    {
      "cell_type": "code",
      "metadata": {
        "id": "NsEqvOVVnBA7",
        "colab_type": "code",
        "outputId": "a112146a-8cf4-4219-d443-0b152a151fd3",
        "colab": {
          "base_uri": "https://localhost:8080/",
          "height": 237
        }
      },
      "source": [
        "y_test"
      ],
      "execution_count": 102,
      "outputs": [
        {
          "output_type": "execute_result",
          "data": {
            "text/html": [
              "<div>\n",
              "<style scoped>\n",
              "    .dataframe tbody tr th:only-of-type {\n",
              "        vertical-align: middle;\n",
              "    }\n",
              "\n",
              "    .dataframe tbody tr th {\n",
              "        vertical-align: top;\n",
              "    }\n",
              "\n",
              "    .dataframe thead th {\n",
              "        text-align: right;\n",
              "    }\n",
              "</style>\n",
              "<table border=\"1\" class=\"dataframe\">\n",
              "  <thead>\n",
              "    <tr style=\"text-align: right;\">\n",
              "      <th></th>\n",
              "      <th>Crime</th>\n",
              "    </tr>\n",
              "  </thead>\n",
              "  <tbody>\n",
              "    <tr>\n",
              "      <th>2000</th>\n",
              "      <td>475.8</td>\n",
              "    </tr>\n",
              "    <tr>\n",
              "      <th>2345</th>\n",
              "      <td>458.6</td>\n",
              "    </tr>\n",
              "    <tr>\n",
              "      <th>2828</th>\n",
              "      <td>372.6</td>\n",
              "    </tr>\n",
              "    <tr>\n",
              "      <th>413</th>\n",
              "      <td>596.6</td>\n",
              "    </tr>\n",
              "    <tr>\n",
              "      <th>2207</th>\n",
              "      <td>479.3</td>\n",
              "    </tr>\n",
              "    <tr>\n",
              "      <th>2138</th>\n",
              "      <td>469.0</td>\n",
              "    </tr>\n",
              "  </tbody>\n",
              "</table>\n",
              "</div>"
            ],
            "text/plain": [
              "      Crime\n",
              "2000  475.8\n",
              "2345  458.6\n",
              "2828  372.6\n",
              "413   596.6\n",
              "2207  479.3\n",
              "2138  469.0"
            ]
          },
          "metadata": {
            "tags": []
          },
          "execution_count": 102
        }
      ]
    },
    {
      "cell_type": "markdown",
      "metadata": {
        "id": "44LUUEmjoa3E",
        "colab_type": "text"
      },
      "source": [
        "This is the real Crime values from dataset."
      ]
    },
    {
      "cell_type": "code",
      "metadata": {
        "id": "nCIN2_vmPWQl",
        "colab_type": "code",
        "outputId": "1fc33db0-2e3a-4034-87d2-d63147807851",
        "colab": {
          "base_uri": "https://localhost:8080/",
          "height": 34
        }
      },
      "source": [
        "regr.score(X_test,y_test)"
      ],
      "execution_count": 103,
      "outputs": [
        {
          "output_type": "execute_result",
          "data": {
            "text/plain": [
              "-0.0882257394050594"
            ]
          },
          "metadata": {
            "tags": []
          },
          "execution_count": 103
        }
      ]
    },
    {
      "cell_type": "code",
      "metadata": {
        "id": "9C7KV4_1n4Of",
        "colab_type": "code",
        "colab": {}
      },
      "source": [
        "X_rforest=income.iloc[:,2].values\n",
        "Y_rforest=report.iloc[:,2].values\n",
        "Y_rforest=Y_rforest.reshape(-1,1)\n",
        "X_rforest=X_rforest.reshape(-1,1)"
      ],
      "execution_count": 0,
      "outputs": []
    },
    {
      "cell_type": "code",
      "metadata": {
        "id": "y_oy4GmhA0Th",
        "colab_type": "code",
        "colab": {}
      },
      "source": [
        "regr_rforest=RandomForestRegressor(n_estimators=30, random_state=0)"
      ],
      "execution_count": 0,
      "outputs": []
    },
    {
      "cell_type": "code",
      "metadata": {
        "id": "BwKysav466b5",
        "colab_type": "code",
        "colab": {}
      },
      "source": [
        "X_rftrain,X_rftest,Y_rftrain,Y_rftest=train_test_split(X_rforest,Y_rforest,test_size=0.25,random_state=0)"
      ],
      "execution_count": 0,
      "outputs": []
    },
    {
      "cell_type": "code",
      "metadata": {
        "id": "hwfPZPsV7IST",
        "colab_type": "code",
        "outputId": "291bc66a-b930-47d3-807b-985336b08956",
        "colab": {
          "base_uri": "https://localhost:8080/",
          "height": 193
        }
      },
      "source": [
        "regr_rforest.fit(X_rftrain,Y_rftrain)"
      ],
      "execution_count": 107,
      "outputs": [
        {
          "output_type": "stream",
          "text": [
            "/usr/local/lib/python3.6/dist-packages/ipykernel_launcher.py:1: DataConversionWarning: A column-vector y was passed when a 1d array was expected. Please change the shape of y to (n_samples,), for example using ravel().\n",
            "  \"\"\"Entry point for launching an IPython kernel.\n"
          ],
          "name": "stderr"
        },
        {
          "output_type": "execute_result",
          "data": {
            "text/plain": [
              "RandomForestRegressor(bootstrap=True, criterion='mse', max_depth=None,\n",
              "                      max_features='auto', max_leaf_nodes=None,\n",
              "                      min_impurity_decrease=0.0, min_impurity_split=None,\n",
              "                      min_samples_leaf=1, min_samples_split=2,\n",
              "                      min_weight_fraction_leaf=0.0, n_estimators=30,\n",
              "                      n_jobs=None, oob_score=False, random_state=0, verbose=0,\n",
              "                      warm_start=False)"
            ]
          },
          "metadata": {
            "tags": []
          },
          "execution_count": 107
        }
      ]
    },
    {
      "cell_type": "code",
      "metadata": {
        "id": "JjnPbU9O7W70",
        "colab_type": "code",
        "outputId": "ffc3b236-b82a-4ca3-f076-17396d64ca0f",
        "colab": {
          "base_uri": "https://localhost:8080/",
          "height": 269
        }
      },
      "source": [
        "X_grid1=np.arange(min(X_rftrain), max(X_rftrain), 0.01)\n",
        "X_grid1=X_grid1.reshape((len(X_grid1), 1))\n",
        "plt.scatter(X_rftrain, Y_rftrain, color=\"red\")\n",
        "plt.plot(X_grid1, regr_rforest.predict(X_grid1), color=\"blue\")\n",
        "\n",
        "plt.show()"
      ],
      "execution_count": 108,
      "outputs": [
        {
          "output_type": "display_data",
          "data": {
            "image/png": "[encoded data removed]",
            "text/plain": [
              "<Figure size 432x288 with 1 Axes>"
            ]
          },
          "metadata": {
            "tags": []
          }
        }
      ]
    },
    {
      "cell_type": "code",
      "metadata": {
        "id": "dHL3oAY98D-v",
        "colab_type": "code",
        "outputId": "08098e88-f6a4-4898-f3d5-3d10171883db",
        "colab": {
          "base_uri": "https://localhost:8080/",
          "height": 51
        }
      },
      "source": [
        "Y_prforest=regr_rforest.predict(X_rftest)\n",
        "regr_rforest.score(X_rftest, Y_rftest)\n",
        "sena=np.array([8.2])\n",
        "sena=sena.reshape(-1,1)\n",
        "\n",
        "Y_prforest=regr_rforest.predict(X_rftest)\n",
        "Y_prforest"
      ],
      "execution_count": 109,
      "outputs": [
        {
          "output_type": "execute_result",
          "data": {
            "text/plain": [
              "array([490.78      , 516.93      , 424.465     , 431.015     ,\n",
              "       516.93      , 525.61333333])"
            ]
          },
          "metadata": {
            "tags": []
          },
          "execution_count": 109
        }
      ]
    },
    {
      "cell_type": "code",
      "metadata": {
        "id": "3RoIrU4ZAge-",
        "colab_type": "code",
        "outputId": "b0c05527-b8eb-460f-891a-190cd7d5b382",
        "colab": {
          "base_uri": "https://localhost:8080/",
          "height": 121
        }
      },
      "source": [
        "Y_rftest"
      ],
      "execution_count": 110,
      "outputs": [
        {
          "output_type": "execute_result",
          "data": {
            "text/plain": [
              "array([[475.8],\n",
              "       [458.6],\n",
              "       [372.6],\n",
              "       [596.6],\n",
              "       [479.3],\n",
              "       [469. ]])"
            ]
          },
          "metadata": {
            "tags": []
          },
          "execution_count": 110
        }
      ]
    },
    {
      "cell_type": "code",
      "metadata": {
        "id": "jMjoyB8eK4RT",
        "colab_type": "code",
        "outputId": "a2654ae1-06b9-47e0-bfbf-05805fd7e65d",
        "colab": {
          "base_uri": "https://localhost:8080/",
          "height": 34
        }
      },
      "source": [
        "regr_rforest.score(X_rftest,Y_rftest)"
      ],
      "execution_count": 111,
      "outputs": [
        {
          "output_type": "execute_result",
          "data": {
            "text/plain": [
              "-0.49853623146411685"
            ]
          },
          "metadata": {
            "tags": []
          },
          "execution_count": 111
        }
      ]
    },
    {
      "cell_type": "code",
      "metadata": {
        "id": "3SeGuil0P6Up",
        "colab_type": "code",
        "colab": {}
      },
      "source": [
        ""
      ],
      "execution_count": 0,
      "outputs": []
    }
  ]
}